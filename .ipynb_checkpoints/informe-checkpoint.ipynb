{
 "cells": [
  {
   "cell_type": "code",
   "execution_count": 3,
   "metadata": {},
   "outputs": [
    {
     "name": "stdout",
     "output_type": "stream",
     "text": [
      "region\n",
      "Andorra                  79613.0\n",
      "Argentina               455311.0\n",
      "Australia               453117.0\n",
      "Austria                 454596.0\n",
      "Belgium                 449337.0\n",
      "                          ...   \n",
      "United Arab Emirates    198944.0\n",
      "United Kingdom          450732.0\n",
      "United States           455085.0\n",
      "Uruguay                 441708.0\n",
      "Vietnam                 312426.0\n",
      "Name: count, Length: 70, dtype: float64\n"
     ]
    }
   ],
   "source": [
    "import pandas as pd\n",
    "\n",
    "result = None\n",
    "for chunk in pd.read_csv('merged_data.csv', chunksize = 10000):\n",
    "    pais = chunk[\"region\"]\n",
    "    chunk_result = pais.value_counts()\n",
    "\n",
    "    if result is None:\n",
    "        result = chunk_result\n",
    "    else:\n",
    "        result = result.add(chunk_result, fill_value=0)\n",
    "\n",
    "print(result)\n"
   ]
  }
 ],
 "metadata": {
  "kernelspec": {
   "display_name": "Python 3 (ipykernel)",
   "language": "python",
   "name": "python3"
  },
  "language_info": {
   "codemirror_mode": {
    "name": "ipython",
    "version": 3
   },
   "file_extension": ".py",
   "mimetype": "text/x-python",
   "name": "python",
   "nbconvert_exporter": "python",
   "pygments_lexer": "ipython3",
   "version": "3.12.5"
  }
 },
 "nbformat": 4,
 "nbformat_minor": 4
}
