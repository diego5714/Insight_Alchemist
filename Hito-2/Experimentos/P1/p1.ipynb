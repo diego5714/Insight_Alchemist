{
 "cells": [
  {
   "cell_type": "markdown",
   "metadata": {},
   "source": [
    "# Experimento:\n",
    "\n",
    "Buscamos lograr contestar la pregunta: \n",
    "- ¿Es posible predecir la felicidad (positividad) de una canción en función de la popularidad (u otros parametros)?"
   ]
  },
  {
   "cell_type": "code",
   "execution_count": 2,
   "metadata": {},
   "outputs": [],
   "source": [
    "import numpy as np \n",
    "import pandas as pd\n",
    "import matplotlib.pyplot as plt"
   ]
  },
  {
   "cell_type": "code",
   "execution_count": 3,
   "metadata": {},
   "outputs": [],
   "source": [
    "df_spotify = pd.read_excel('../../../Spotify.xlsx')\n",
    "\n",
    "#Ajustamos columnas para contraarrestar error de formato en archivo xlsx\n",
    "df_spotify['duration_ms'] = df_spotify['duration_ms']/10\n",
    "df_spotify['popularity'] = df_spotify['popularity']/10\n",
    "df_spotify['streams'] = df_spotify['streams']/10\n",
    "df_spotify['af_danceability'] = df_spotify['af_danceability']/1000\n",
    "df_spotify['af_energy'] = df_spotify['af_energy']/1000\n",
    "df_spotify['af_key'] = df_spotify['af_key']/10\n",
    "df_spotify['af_loudness'] = df_spotify['af_loudness']/1000\n",
    "df_spotify['af_speechiness'] = df_spotify['af_speechiness']/1000\n",
    "df_spotify['af_acousticness'] = df_spotify['af_acousticness']/1000\n",
    "df_spotify['af_instrumentalness'] = df_spotify['af_instrumentalness']/1000\n",
    "df_spotify['af_liveness'] = df_spotify['af_liveness']/1000\n",
    "df_spotify['af_valence'] = df_spotify['af_valence']/1000\n",
    "df_spotify['af_tempo'] = df_spotify['af_tempo']/1000\n",
    "df_spotify['af_time_signature'] = df_spotify['af_time_signature']/10"
   ]
  },
  {
   "cell_type": "markdown",
   "metadata": {},
   "source": [
    "## Prediciendo con solo popularidad"
   ]
  },
  {
   "cell_type": "markdown",
   "metadata": {},
   "source": [
    "En una primera instancia, experimentaremos sólo usando los atributos \"streams\" y \"popularity\" para intentar predecir \"af_valence\" (El cual representa la positividad o felicidad). Esto es porque de todos lo atributos, son estos dos los que se asocian con la \"popularidad\" de una canción dada."
   ]
  },
  {
   "cell_type": "code",
   "execution_count": 9,
   "metadata": {},
   "outputs": [],
   "source": [
    "df_util_1 = df_spotify[[\"streams\", \"popularity\", \"af_valence\"]].copy()"
   ]
  },
  {
   "cell_type": "code",
   "execution_count": 10,
   "metadata": {},
   "outputs": [
    {
     "data": {
      "text/html": [
       "<div>\n",
       "<style scoped>\n",
       "    .dataframe tbody tr th:only-of-type {\n",
       "        vertical-align: middle;\n",
       "    }\n",
       "\n",
       "    .dataframe tbody tr th {\n",
       "        vertical-align: top;\n",
       "    }\n",
       "\n",
       "    .dataframe thead th {\n",
       "        text-align: right;\n",
       "    }\n",
       "</style>\n",
       "<table border=\"1\" class=\"dataframe\">\n",
       "  <thead>\n",
       "    <tr style=\"text-align: right;\">\n",
       "      <th></th>\n",
       "      <th>streams</th>\n",
       "      <th>popularity</th>\n",
       "      <th>af_valence</th>\n",
       "    </tr>\n",
       "  </thead>\n",
       "  <tbody>\n",
       "    <tr>\n",
       "      <th>0</th>\n",
       "      <td>28838.0</td>\n",
       "      <td>44.0</td>\n",
       "      <td>0.251</td>\n",
       "    </tr>\n",
       "    <tr>\n",
       "      <th>1</th>\n",
       "      <td>22249.0</td>\n",
       "      <td>1.0</td>\n",
       "      <td>0.393</td>\n",
       "    </tr>\n",
       "    <tr>\n",
       "      <th>2</th>\n",
       "      <td>218751.0</td>\n",
       "      <td>64.0</td>\n",
       "      <td>0.822</td>\n",
       "    </tr>\n",
       "    <tr>\n",
       "      <th>3</th>\n",
       "      <td>193855.0</td>\n",
       "      <td>74.0</td>\n",
       "      <td>0.453</td>\n",
       "    </tr>\n",
       "    <tr>\n",
       "      <th>4</th>\n",
       "      <td>179042.0</td>\n",
       "      <td>72.0</td>\n",
       "      <td>0.055</td>\n",
       "    </tr>\n",
       "    <tr>\n",
       "      <th>...</th>\n",
       "      <td>...</td>\n",
       "      <td>...</td>\n",
       "      <td>...</td>\n",
       "    </tr>\n",
       "    <tr>\n",
       "      <th>1009045</th>\n",
       "      <td>11984.0</td>\n",
       "      <td>22.0</td>\n",
       "      <td>0.855</td>\n",
       "    </tr>\n",
       "    <tr>\n",
       "      <th>1009046</th>\n",
       "      <td>11904.0</td>\n",
       "      <td>53.0</td>\n",
       "      <td>0.025</td>\n",
       "    </tr>\n",
       "    <tr>\n",
       "      <th>1009047</th>\n",
       "      <td>11894.0</td>\n",
       "      <td>45.0</td>\n",
       "      <td>0.227</td>\n",
       "    </tr>\n",
       "    <tr>\n",
       "      <th>1009048</th>\n",
       "      <td>11751.0</td>\n",
       "      <td>0.0</td>\n",
       "      <td>0.669</td>\n",
       "    </tr>\n",
       "    <tr>\n",
       "      <th>1009049</th>\n",
       "      <td>11481.0</td>\n",
       "      <td>49.0</td>\n",
       "      <td>0.329</td>\n",
       "    </tr>\n",
       "  </tbody>\n",
       "</table>\n",
       "<p>1009050 rows × 3 columns</p>\n",
       "</div>"
      ],
      "text/plain": [
       "          streams  popularity  af_valence\n",
       "0         28838.0        44.0       0.251\n",
       "1         22249.0         1.0       0.393\n",
       "2        218751.0        64.0       0.822\n",
       "3        193855.0        74.0       0.453\n",
       "4        179042.0        72.0       0.055\n",
       "...           ...         ...         ...\n",
       "1009045   11984.0        22.0       0.855\n",
       "1009046   11904.0        53.0       0.025\n",
       "1009047   11894.0        45.0       0.227\n",
       "1009048   11751.0         0.0       0.669\n",
       "1009049   11481.0        49.0       0.329\n",
       "\n",
       "[1009050 rows x 3 columns]"
      ]
     },
     "execution_count": 10,
     "metadata": {},
     "output_type": "execute_result"
    }
   ],
   "source": [
    "df_util_1"
   ]
  },
  {
   "cell_type": "markdown",
   "metadata": {},
   "source": [
    "Definimos una función que nos permitirá convertir los valores numéricos reales del atributo \"af_valence\" en etiquetas de texto mediante intervalos."
   ]
  },
  {
   "cell_type": "code",
   "execution_count": 11,
   "metadata": {},
   "outputs": [],
   "source": [
    "def apply_etiqueta(elemento):\n",
    "    if (elemento <= 0.25):\n",
    "        return \"Low\"\n",
    "    elif (elemento > 0.25) & (elemento <= 0.5):\n",
    "        return \"Medium-Low\"\n",
    "    elif (elemento > 0.5) & (elemento <= 0.75):\n",
    "        return \"Medium-High\"\n",
    "    else:\n",
    "        return \"High\""
   ]
  },
  {
   "cell_type": "markdown",
   "metadata": {},
   "source": [
    "Procedemos a separar las etiquetas de los datos y a aplicar un scaler."
   ]
  },
  {
   "cell_type": "code",
   "execution_count": 12,
   "metadata": {},
   "outputs": [],
   "source": [
    "from sklearn.preprocessing import StandardScaler\n",
    "\n",
    "df_etiquetado_1 = df_util_1.copy()\n",
    "\n",
    "df_etiquetado_1[\"af_valence\"] = df_etiquetado_1[\"af_valence\"].apply(apply_etiqueta)\n",
    "X_1 = df_etiquetado_1.drop(columns = 'af_valence')\n",
    "y_1 = df_etiquetado_1[\"af_valence\"]\n",
    "\n",
    "X_scaled_1 = pd.DataFrame(StandardScaler().fit_transform(X_1), columns = X_1.columns)"
   ]
  },
  {
   "cell_type": "code",
   "execution_count": 13,
   "metadata": {},
   "outputs": [
    {
     "data": {
      "text/html": [
       "<div>\n",
       "<style scoped>\n",
       "    .dataframe tbody tr th:only-of-type {\n",
       "        vertical-align: middle;\n",
       "    }\n",
       "\n",
       "    .dataframe tbody tr th {\n",
       "        vertical-align: top;\n",
       "    }\n",
       "\n",
       "    .dataframe thead th {\n",
       "        text-align: right;\n",
       "    }\n",
       "</style>\n",
       "<table border=\"1\" class=\"dataframe\">\n",
       "  <thead>\n",
       "    <tr style=\"text-align: right;\">\n",
       "      <th></th>\n",
       "      <th>streams</th>\n",
       "      <th>popularity</th>\n",
       "    </tr>\n",
       "  </thead>\n",
       "  <tbody>\n",
       "    <tr>\n",
       "      <th>0</th>\n",
       "      <td>-0.209665</td>\n",
       "      <td>-0.391136</td>\n",
       "    </tr>\n",
       "    <tr>\n",
       "      <th>1</th>\n",
       "      <td>-0.228652</td>\n",
       "      <td>-1.953110</td>\n",
       "    </tr>\n",
       "    <tr>\n",
       "      <th>2</th>\n",
       "      <td>0.337597</td>\n",
       "      <td>0.335363</td>\n",
       "    </tr>\n",
       "    <tr>\n",
       "      <th>3</th>\n",
       "      <td>0.265856</td>\n",
       "      <td>0.698613</td>\n",
       "    </tr>\n",
       "    <tr>\n",
       "      <th>4</th>\n",
       "      <td>0.223170</td>\n",
       "      <td>0.625963</td>\n",
       "    </tr>\n",
       "    <tr>\n",
       "      <th>...</th>\n",
       "      <td>...</td>\n",
       "      <td>...</td>\n",
       "    </tr>\n",
       "    <tr>\n",
       "      <th>1009045</th>\n",
       "      <td>-0.258232</td>\n",
       "      <td>-1.190286</td>\n",
       "    </tr>\n",
       "    <tr>\n",
       "      <th>1009046</th>\n",
       "      <td>-0.258463</td>\n",
       "      <td>-0.064212</td>\n",
       "    </tr>\n",
       "    <tr>\n",
       "      <th>1009047</th>\n",
       "      <td>-0.258492</td>\n",
       "      <td>-0.354812</td>\n",
       "    </tr>\n",
       "    <tr>\n",
       "      <th>1009048</th>\n",
       "      <td>-0.258904</td>\n",
       "      <td>-1.989435</td>\n",
       "    </tr>\n",
       "    <tr>\n",
       "      <th>1009049</th>\n",
       "      <td>-0.259682</td>\n",
       "      <td>-0.209512</td>\n",
       "    </tr>\n",
       "  </tbody>\n",
       "</table>\n",
       "<p>1009050 rows × 2 columns</p>\n",
       "</div>"
      ],
      "text/plain": [
       "          streams  popularity\n",
       "0       -0.209665   -0.391136\n",
       "1       -0.228652   -1.953110\n",
       "2        0.337597    0.335363\n",
       "3        0.265856    0.698613\n",
       "4        0.223170    0.625963\n",
       "...           ...         ...\n",
       "1009045 -0.258232   -1.190286\n",
       "1009046 -0.258463   -0.064212\n",
       "1009047 -0.258492   -0.354812\n",
       "1009048 -0.258904   -1.989435\n",
       "1009049 -0.259682   -0.209512\n",
       "\n",
       "[1009050 rows x 2 columns]"
      ]
     },
     "execution_count": 13,
     "metadata": {},
     "output_type": "execute_result"
    }
   ],
   "source": [
    "X_scaled_1"
   ]
  },
  {
   "cell_type": "markdown",
   "metadata": {},
   "source": [
    "Hacemos la separación del conjunto de datos de entrenamiento y el de validación:"
   ]
  },
  {
   "cell_type": "code",
   "execution_count": 14,
   "metadata": {},
   "outputs": [],
   "source": [
    "from sklearn.model_selection import train_test_split\n",
    "\n",
    "X_train_1, X_val_1, y_train_1, y_val_1 = train_test_split(X_scaled_1, y_1, test_size=0.3, random_state=0, stratify=y_1)"
   ]
  },
  {
   "cell_type": "markdown",
   "metadata": {},
   "source": [
    "### Dummy Classifier"
   ]
  },
  {
   "cell_type": "markdown",
   "metadata": {},
   "source": [
    "Para poder comparar los resultados obtenidos con otros clasificadores con un baseline conocido, ejecutamos una predicción con un dummy classifier."
   ]
  },
  {
   "cell_type": "code",
   "execution_count": 15,
   "metadata": {},
   "outputs": [
    {
     "name": "stdout",
     "output_type": "stream",
     "text": [
      "              precision    recall  f1-score   support\n",
      "\n",
      "        High       0.19      0.19      0.19     58190\n",
      "         Low       0.17      0.17      0.17     52533\n",
      " Medium-High       0.36      0.36      0.36    109647\n",
      "  Medium-Low       0.27      0.27      0.27     82345\n",
      "\n",
      "    accuracy                           0.27    302715\n",
      "   macro avg       0.25      0.25      0.25    302715\n",
      "weighted avg       0.27      0.27      0.27    302715\n",
      "\n"
     ]
    }
   ],
   "source": [
    "from sklearn.model_selection import GridSearchCV\n",
    "from sklearn.metrics import accuracy_score, precision_score, recall_score, f1_score, classification_report\n",
    "from sklearn.dummy import DummyClassifier\n",
    "\n",
    "dummy_clf = DummyClassifier(strategy = 'stratified')\n",
    "\n",
    "dummy_clf.fit(X_train_1, y_train_1)\n",
    "\n",
    "y_pred_1 = dummy_clf.predict(X_val_1)\n",
    "\n",
    "kn_acc = accuracy_score(y_val_1, y_pred_1)\n",
    "print(classification_report(y_val_1, y_pred_1))\n"
   ]
  },
  {
   "cell_type": "markdown",
   "metadata": {},
   "source": [
    "### K-Nearest Neighbors"
   ]
  },
  {
   "cell_type": "markdown",
   "metadata": {},
   "source": [
    "Partimos haciendo una búsqueda para encontrar los parámetros mas idóneos con GridSearchCV"
   ]
  },
  {
   "cell_type": "code",
   "execution_count": 10,
   "metadata": {},
   "outputs": [
    {
     "name": "stderr",
     "output_type": "stream",
     "text": [
      "/home/diego/Desarrollo/DCC/Codigo-DCC/Mineria-CC5205/.venv/lib/python3.12/site-packages/numpy/ma/core.py:2881: RuntimeWarning: invalid value encountered in cast\n",
      "  _data = np.array(data, dtype=dtype, copy=copy,\n"
     ]
    },
    {
     "name": "stdout",
     "output_type": "stream",
     "text": [
      "Mejor combinación de parámetros:\n",
      "{'n_neighbors': 15, 'weights': 'uniform'}\n"
     ]
    }
   ],
   "source": [
    "from sklearn.neighbors import KNeighborsClassifier\n",
    "\n",
    "np.random.seed(42)\n",
    "\n",
    "tuned_parameters = {'n_neighbors': list(range(1, 16, 1)), 'weights': ['uniform', 'distance']}\n",
    "\n",
    "score = 'f1_macro'\n",
    "\n",
    "cls = KNeighborsClassifier(n_jobs = -1)\n",
    "\n",
    "clf = GridSearchCV(cls, param_grid = tuned_parameters, scoring = score, cv = 5)\n",
    "\n",
    "clf.fit(X_train_1, y_train_1)\n",
    "\n",
    "print(\"Mejor combinación de parámetros:\")\n",
    "print(clf.best_params_)"
   ]
  },
  {
   "cell_type": "code",
   "execution_count": 11,
   "metadata": {},
   "outputs": [
    {
     "name": "stdout",
     "output_type": "stream",
     "text": [
      "              precision    recall  f1-score   support\n",
      "\n",
      "        High       0.42      0.40      0.41     58190\n",
      "         Low       0.39      0.30      0.34     52533\n",
      " Medium-High       0.50      0.60      0.55    109647\n",
      "  Medium-Low       0.49      0.44      0.46     82345\n",
      "\n",
      "    accuracy                           0.47    302715\n",
      "   macro avg       0.45      0.44      0.44    302715\n",
      "weighted avg       0.46      0.47      0.46    302715\n",
      "\n"
     ]
    }
   ],
   "source": [
    "kn_clf_15 = KNeighborsClassifier(n_neighbors=15, weights = 'uniform', n_jobs = -1)\n",
    "\n",
    "kn_clf_15.fit(X_train_1, y_train_1)\n",
    "\n",
    "y_pred_1 = kn_clf_15.predict(X_val_1)\n",
    "\n",
    "kn_acc = accuracy_score(y_val_1, y_pred_1)\n",
    "print(classification_report(y_val_1, y_pred_1))"
   ]
  },
  {
   "cell_type": "markdown",
   "metadata": {},
   "source": [
    "Los resultados no son terribles, considerando que son bastante mejores que dummy, pero tampoco son buenos. En ningun caso logramos scores mayores a 0.5"
   ]
  },
  {
   "cell_type": "markdown",
   "metadata": {},
   "source": [
    "### Decision Tree"
   ]
  },
  {
   "cell_type": "markdown",
   "metadata": {},
   "source": [
    "Nuevamente optimizamos los parametros de entrada con GridSearchCV"
   ]
  },
  {
   "cell_type": "code",
   "execution_count": 12,
   "metadata": {},
   "outputs": [
    {
     "name": "stdout",
     "output_type": "stream",
     "text": [
      "Mejor combinación de parámetros:\n",
      "{'criterion': 'gini', 'max_depth': 15}\n"
     ]
    }
   ],
   "source": [
    "from sklearn.tree import DecisionTreeClassifier\n",
    "\n",
    "np.random.seed(42)\n",
    "\n",
    "tuned_parameters = {'max_depth': list(range(1, 16, 1)), 'criterion': ['gini', 'entropy']}\n",
    "score = 'f1_macro'\n",
    "cls = DecisionTreeClassifier()\n",
    "\n",
    "clf = GridSearchCV(cls, param_grid = tuned_parameters, scoring = score, cv = 5)\n",
    "\n",
    "clf.fit(X_train_1, y_train_1)\n",
    "\n",
    "print(\"Mejor combinación de parámetros:\")\n",
    "print(clf.best_params_)"
   ]
  },
  {
   "cell_type": "code",
   "execution_count": 13,
   "metadata": {},
   "outputs": [
    {
     "name": "stdout",
     "output_type": "stream",
     "text": [
      "              precision    recall  f1-score   support\n",
      "\n",
      "        High       0.47      0.37      0.41     58190\n",
      "         Low       0.49      0.20      0.29     52533\n",
      " Medium-High       0.49      0.65      0.56    109647\n",
      "  Medium-Low       0.47      0.50      0.49     82345\n",
      "\n",
      "    accuracy                           0.48    302715\n",
      "   macro avg       0.48      0.43      0.44    302715\n",
      "weighted avg       0.48      0.48      0.46    302715\n",
      "\n"
     ]
    }
   ],
   "source": [
    "dtree_clf = DecisionTreeClassifier(max_depth = 15, criterion = 'gini')\n",
    "\n",
    "dtree_clf.fit(X_train_1, y_train_1)\n",
    "\n",
    "y_pred_1 = dtree_clf.predict(X_val_1)\n",
    "\n",
    "kn_acc = accuracy_score(y_val_1, y_pred_1)\n",
    "print(classification_report(y_val_1, y_pred_1))"
   ]
  },
  {
   "cell_type": "markdown",
   "metadata": {},
   "source": [
    "Obtenemos resultados similares a los conseguidos con K-Nearest Neighbors, por lo que tampoco son excelentes."
   ]
  },
  {
   "cell_type": "markdown",
   "metadata": {},
   "source": [
    "### Naive Bayes"
   ]
  },
  {
   "cell_type": "code",
   "execution_count": 14,
   "metadata": {},
   "outputs": [
    {
     "name": "stderr",
     "output_type": "stream",
     "text": [
      "/home/diego/Desarrollo/DCC/Codigo-DCC/Mineria-CC5205/.venv/lib/python3.12/site-packages/sklearn/metrics/_classification.py:1531: UndefinedMetricWarning: Precision is ill-defined and being set to 0.0 in labels with no predicted samples. Use `zero_division` parameter to control this behavior.\n",
      "  _warn_prf(average, modifier, f\"{metric.capitalize()} is\", len(result))\n",
      "/home/diego/Desarrollo/DCC/Codigo-DCC/Mineria-CC5205/.venv/lib/python3.12/site-packages/sklearn/metrics/_classification.py:1531: UndefinedMetricWarning: Precision is ill-defined and being set to 0.0 in labels with no predicted samples. Use `zero_division` parameter to control this behavior.\n",
      "  _warn_prf(average, modifier, f\"{metric.capitalize()} is\", len(result))\n"
     ]
    },
    {
     "name": "stdout",
     "output_type": "stream",
     "text": [
      "              precision    recall  f1-score   support\n",
      "\n",
      "        High       0.22      0.02      0.03     58190\n",
      "         Low       0.00      0.00      0.00     52533\n",
      " Medium-High       0.37      0.85      0.52    109647\n",
      "  Medium-Low       0.29      0.17      0.21     82345\n",
      "\n",
      "    accuracy                           0.36    302715\n",
      "   macro avg       0.22      0.26      0.19    302715\n",
      "weighted avg       0.26      0.36      0.25    302715\n",
      "\n"
     ]
    },
    {
     "name": "stderr",
     "output_type": "stream",
     "text": [
      "/home/diego/Desarrollo/DCC/Codigo-DCC/Mineria-CC5205/.venv/lib/python3.12/site-packages/sklearn/metrics/_classification.py:1531: UndefinedMetricWarning: Precision is ill-defined and being set to 0.0 in labels with no predicted samples. Use `zero_division` parameter to control this behavior.\n",
      "  _warn_prf(average, modifier, f\"{metric.capitalize()} is\", len(result))\n"
     ]
    }
   ],
   "source": [
    "from sklearn.naive_bayes import GaussianNB\n",
    "\n",
    "nb_clf = GaussianNB()\n",
    "\n",
    "nb_clf.fit(X_train_1, y_train_1)\n",
    "\n",
    "y_pred_1 = nb_clf.predict(X_val_1)\n",
    "\n",
    "kn_acc = accuracy_score(y_val_1, y_pred_1)\n",
    "print(classification_report(y_val_1, y_pred_1))"
   ]
  },
  {
   "cell_type": "markdown",
   "metadata": {},
   "source": [
    "Aqui los resultados son terribles, incluso peores que el dummy classifier. Hay etiquetas que incluso no recibieron ninguna prediccion. Este clasificador se descarta para el conjunto de datos usado."
   ]
  },
  {
   "cell_type": "markdown",
   "metadata": {},
   "source": [
    "### Support Vector Machines"
   ]
  },
  {
   "cell_type": "code",
   "execution_count": 15,
   "metadata": {},
   "outputs": [
    {
     "name": "stderr",
     "output_type": "stream",
     "text": [
      "/home/diego/Desarrollo/DCC/Codigo-DCC/Mineria-CC5205/.venv/lib/python3.12/site-packages/sklearn/metrics/_classification.py:1531: UndefinedMetricWarning: Precision is ill-defined and being set to 0.0 in labels with no predicted samples. Use `zero_division` parameter to control this behavior.\n",
      "  _warn_prf(average, modifier, f\"{metric.capitalize()} is\", len(result))\n",
      "/home/diego/Desarrollo/DCC/Codigo-DCC/Mineria-CC5205/.venv/lib/python3.12/site-packages/sklearn/metrics/_classification.py:1531: UndefinedMetricWarning: Precision is ill-defined and being set to 0.0 in labels with no predicted samples. Use `zero_division` parameter to control this behavior.\n",
      "  _warn_prf(average, modifier, f\"{metric.capitalize()} is\", len(result))\n"
     ]
    },
    {
     "name": "stdout",
     "output_type": "stream",
     "text": [
      "              precision    recall  f1-score   support\n",
      "\n",
      "        High       0.29      0.00      0.00     58190\n",
      "         Low       0.00      0.00      0.00     52533\n",
      " Medium-High       0.36      1.00      0.53    109647\n",
      "  Medium-Low       0.00      0.00      0.00     82345\n",
      "\n",
      "    accuracy                           0.36    302715\n",
      "   macro avg       0.16      0.25      0.13    302715\n",
      "weighted avg       0.19      0.36      0.19    302715\n",
      "\n"
     ]
    },
    {
     "name": "stderr",
     "output_type": "stream",
     "text": [
      "/home/diego/Desarrollo/DCC/Codigo-DCC/Mineria-CC5205/.venv/lib/python3.12/site-packages/sklearn/metrics/_classification.py:1531: UndefinedMetricWarning: Precision is ill-defined and being set to 0.0 in labels with no predicted samples. Use `zero_division` parameter to control this behavior.\n",
      "  _warn_prf(average, modifier, f\"{metric.capitalize()} is\", len(result))\n"
     ]
    }
   ],
   "source": [
    "from sklearn.svm import LinearSVC\n",
    "\n",
    "svm_clf = LinearSVC()\n",
    "\n",
    "svm_clf.fit(X_train_1, y_train_1)\n",
    "\n",
    "y_pred_1 = svm_clf.predict(X_val_1)\n",
    "\n",
    "kn_acc = accuracy_score(y_val_1, y_pred_1)\n",
    "print(classification_report(y_val_1, y_pred_1))"
   ]
  },
  {
   "cell_type": "markdown",
   "metadata": {},
   "source": [
    "Los resultados aqui iguales o peores que los obtenidos con Naive Bayes. Este clasificador no sirve para este conjunto de datos."
   ]
  },
  {
   "cell_type": "markdown",
   "metadata": {},
   "source": [
    "### SGD Classifier"
   ]
  },
  {
   "cell_type": "code",
   "execution_count": 16,
   "metadata": {},
   "outputs": [
    {
     "name": "stderr",
     "output_type": "stream",
     "text": [
      "/home/diego/Desarrollo/DCC/Codigo-DCC/Mineria-CC5205/.venv/lib/python3.12/site-packages/sklearn/metrics/_classification.py:1531: UndefinedMetricWarning: Precision is ill-defined and being set to 0.0 in labels with no predicted samples. Use `zero_division` parameter to control this behavior.\n",
      "  _warn_prf(average, modifier, f\"{metric.capitalize()} is\", len(result))\n",
      "/home/diego/Desarrollo/DCC/Codigo-DCC/Mineria-CC5205/.venv/lib/python3.12/site-packages/sklearn/metrics/_classification.py:1531: UndefinedMetricWarning: Precision is ill-defined and being set to 0.0 in labels with no predicted samples. Use `zero_division` parameter to control this behavior.\n",
      "  _warn_prf(average, modifier, f\"{metric.capitalize()} is\", len(result))\n"
     ]
    },
    {
     "name": "stdout",
     "output_type": "stream",
     "text": [
      "              precision    recall  f1-score   support\n",
      "\n",
      "        High       0.00      0.00      0.00     58190\n",
      "         Low       0.00      0.00      0.00     52533\n",
      " Medium-High       0.36      1.00      0.53    109647\n",
      "  Medium-Low       0.00      0.00      0.00     82345\n",
      "\n",
      "    accuracy                           0.36    302715\n",
      "   macro avg       0.09      0.25      0.13    302715\n",
      "weighted avg       0.13      0.36      0.19    302715\n",
      "\n"
     ]
    },
    {
     "name": "stderr",
     "output_type": "stream",
     "text": [
      "/home/diego/Desarrollo/DCC/Codigo-DCC/Mineria-CC5205/.venv/lib/python3.12/site-packages/sklearn/metrics/_classification.py:1531: UndefinedMetricWarning: Precision is ill-defined and being set to 0.0 in labels with no predicted samples. Use `zero_division` parameter to control this behavior.\n",
      "  _warn_prf(average, modifier, f\"{metric.capitalize()} is\", len(result))\n"
     ]
    }
   ],
   "source": [
    "from sklearn.linear_model import SGDClassifier\n",
    "\n",
    "sgd_clf = SGDClassifier(n_jobs = -1)\n",
    "\n",
    "sgd_clf.fit(X_train_1, y_train_1)\n",
    "\n",
    "y_pred_1 = sgd_clf.predict(X_val_1)\n",
    "\n",
    "kn_acc = accuracy_score(y_val_1, y_pred_1)\n",
    "print(classification_report(y_val_1, y_pred_1))"
   ]
  },
  {
   "cell_type": "markdown",
   "metadata": {},
   "source": [
    "En un intento de encontrar un clasificador que funcione, probamos el uso de SGD (Stocastic Gradient Descent). Obtenemos resultados terribles que no nos sirven para la situacion actual."
   ]
  },
  {
   "cell_type": "markdown",
   "metadata": {},
   "source": [
    "Dado el conjunto limitado de atributos, el clasificador con el mejor desempeño fue Decision Tree. Sin embargo, los resultados dejan mucho que desear. Podemos concluir a priori que basados solo en los atributos asociados a la \"Popularidad\" no es posible hacer una prediccion de la positividad de una canción, o al menos no una que sea aceptable."
   ]
  },
  {
   "cell_type": "markdown",
   "metadata": {},
   "source": [
    "## Ampliando el uso de atributos"
   ]
  },
  {
   "cell_type": "markdown",
   "metadata": {},
   "source": [
    "Dado el mal desempeño anterior, procederemos a ampliar el campo de atributos a utilizar.\n",
    "\n",
    "Esta vez ademas de \"streams\" y \"popularity\", utilizaremos \"af_danceability\", \"af_energy\", \"af_key\", \"af_loudness\", \"af_mode\", \"af_acousticness\""
   ]
  },
  {
   "cell_type": "code",
   "execution_count": 36,
   "metadata": {},
   "outputs": [],
   "source": [
    "df_util_2 = df_spotify[[\"streams\", \"popularity\", \"af_danceability\", \"af_energy\", \"af_key\", \"af_loudness\", \"af_mode\", \"af_acousticness\", \"af_valence\"]].copy()"
   ]
  },
  {
   "cell_type": "code",
   "execution_count": 37,
   "metadata": {},
   "outputs": [
    {
     "data": {
      "text/html": [
       "<div>\n",
       "<style scoped>\n",
       "    .dataframe tbody tr th:only-of-type {\n",
       "        vertical-align: middle;\n",
       "    }\n",
       "\n",
       "    .dataframe tbody tr th {\n",
       "        vertical-align: top;\n",
       "    }\n",
       "\n",
       "    .dataframe thead th {\n",
       "        text-align: right;\n",
       "    }\n",
       "</style>\n",
       "<table border=\"1\" class=\"dataframe\">\n",
       "  <thead>\n",
       "    <tr style=\"text-align: right;\">\n",
       "      <th></th>\n",
       "      <th>streams</th>\n",
       "      <th>popularity</th>\n",
       "      <th>af_danceability</th>\n",
       "      <th>af_energy</th>\n",
       "      <th>af_key</th>\n",
       "      <th>af_loudness</th>\n",
       "      <th>af_mode</th>\n",
       "      <th>af_acousticness</th>\n",
       "      <th>af_valence</th>\n",
       "    </tr>\n",
       "  </thead>\n",
       "  <tbody>\n",
       "    <tr>\n",
       "      <th>0</th>\n",
       "      <td>28838.0</td>\n",
       "      <td>44.0</td>\n",
       "      <td>0.068</td>\n",
       "      <td>0.411</td>\n",
       "      <td>11.0</td>\n",
       "      <td>-10.319</td>\n",
       "      <td>0</td>\n",
       "      <td>0.043</td>\n",
       "      <td>0.251</td>\n",
       "    </tr>\n",
       "    <tr>\n",
       "      <th>1</th>\n",
       "      <td>22249.0</td>\n",
       "      <td>1.0</td>\n",
       "      <td>0.611</td>\n",
       "      <td>0.688</td>\n",
       "      <td>1.0</td>\n",
       "      <td>-5.688</td>\n",
       "      <td>10</td>\n",
       "      <td>0.264</td>\n",
       "      <td>0.393</td>\n",
       "    </tr>\n",
       "    <tr>\n",
       "      <th>2</th>\n",
       "      <td>218751.0</td>\n",
       "      <td>64.0</td>\n",
       "      <td>0.606</td>\n",
       "      <td>0.853</td>\n",
       "      <td>9.0</td>\n",
       "      <td>-2.975</td>\n",
       "      <td>10</td>\n",
       "      <td>0.237</td>\n",
       "      <td>0.822</td>\n",
       "    </tr>\n",
       "    <tr>\n",
       "      <th>3</th>\n",
       "      <td>193855.0</td>\n",
       "      <td>74.0</td>\n",
       "      <td>0.086</td>\n",
       "      <td>0.758</td>\n",
       "      <td>11.0</td>\n",
       "      <td>-0.516</td>\n",
       "      <td>10</td>\n",
       "      <td>0.021</td>\n",
       "      <td>0.453</td>\n",
       "    </tr>\n",
       "    <tr>\n",
       "      <th>4</th>\n",
       "      <td>179042.0</td>\n",
       "      <td>72.0</td>\n",
       "      <td>0.795</td>\n",
       "      <td>0.542</td>\n",
       "      <td>6.0</td>\n",
       "      <td>-8.106</td>\n",
       "      <td>0</td>\n",
       "      <td>0.903</td>\n",
       "      <td>0.055</td>\n",
       "    </tr>\n",
       "    <tr>\n",
       "      <th>...</th>\n",
       "      <td>...</td>\n",
       "      <td>...</td>\n",
       "      <td>...</td>\n",
       "      <td>...</td>\n",
       "      <td>...</td>\n",
       "      <td>...</td>\n",
       "      <td>...</td>\n",
       "      <td>...</td>\n",
       "      <td>...</td>\n",
       "    </tr>\n",
       "    <tr>\n",
       "      <th>1009045</th>\n",
       "      <td>11984.0</td>\n",
       "      <td>22.0</td>\n",
       "      <td>0.824</td>\n",
       "      <td>0.823</td>\n",
       "      <td>11.0</td>\n",
       "      <td>-2.718</td>\n",
       "      <td>0</td>\n",
       "      <td>0.197</td>\n",
       "      <td>0.855</td>\n",
       "    </tr>\n",
       "    <tr>\n",
       "      <th>1009046</th>\n",
       "      <td>11904.0</td>\n",
       "      <td>53.0</td>\n",
       "      <td>0.051</td>\n",
       "      <td>0.375</td>\n",
       "      <td>9.0</td>\n",
       "      <td>-9.185</td>\n",
       "      <td>10</td>\n",
       "      <td>0.813</td>\n",
       "      <td>0.025</td>\n",
       "    </tr>\n",
       "    <tr>\n",
       "      <th>1009047</th>\n",
       "      <td>11894.0</td>\n",
       "      <td>45.0</td>\n",
       "      <td>0.534</td>\n",
       "      <td>0.499</td>\n",
       "      <td>9.0</td>\n",
       "      <td>-10.601</td>\n",
       "      <td>0</td>\n",
       "      <td>0.416</td>\n",
       "      <td>0.227</td>\n",
       "    </tr>\n",
       "    <tr>\n",
       "      <th>1009048</th>\n",
       "      <td>11751.0</td>\n",
       "      <td>0.0</td>\n",
       "      <td>0.735</td>\n",
       "      <td>0.824</td>\n",
       "      <td>2.0</td>\n",
       "      <td>-3.483</td>\n",
       "      <td>0</td>\n",
       "      <td>0.706</td>\n",
       "      <td>0.669</td>\n",
       "    </tr>\n",
       "    <tr>\n",
       "      <th>1009049</th>\n",
       "      <td>11481.0</td>\n",
       "      <td>49.0</td>\n",
       "      <td>0.544</td>\n",
       "      <td>0.307</td>\n",
       "      <td>1.0</td>\n",
       "      <td>-10.531</td>\n",
       "      <td>10</td>\n",
       "      <td>0.814</td>\n",
       "      <td>0.329</td>\n",
       "    </tr>\n",
       "  </tbody>\n",
       "</table>\n",
       "<p>1009050 rows × 9 columns</p>\n",
       "</div>"
      ],
      "text/plain": [
       "          streams  popularity  af_danceability  af_energy  af_key  \\\n",
       "0         28838.0        44.0            0.068      0.411    11.0   \n",
       "1         22249.0         1.0            0.611      0.688     1.0   \n",
       "2        218751.0        64.0            0.606      0.853     9.0   \n",
       "3        193855.0        74.0            0.086      0.758    11.0   \n",
       "4        179042.0        72.0            0.795      0.542     6.0   \n",
       "...           ...         ...              ...        ...     ...   \n",
       "1009045   11984.0        22.0            0.824      0.823    11.0   \n",
       "1009046   11904.0        53.0            0.051      0.375     9.0   \n",
       "1009047   11894.0        45.0            0.534      0.499     9.0   \n",
       "1009048   11751.0         0.0            0.735      0.824     2.0   \n",
       "1009049   11481.0        49.0            0.544      0.307     1.0   \n",
       "\n",
       "         af_loudness  af_mode  af_acousticness  af_valence  \n",
       "0            -10.319        0            0.043       0.251  \n",
       "1             -5.688       10            0.264       0.393  \n",
       "2             -2.975       10            0.237       0.822  \n",
       "3             -0.516       10            0.021       0.453  \n",
       "4             -8.106        0            0.903       0.055  \n",
       "...              ...      ...              ...         ...  \n",
       "1009045       -2.718        0            0.197       0.855  \n",
       "1009046       -9.185       10            0.813       0.025  \n",
       "1009047      -10.601        0            0.416       0.227  \n",
       "1009048       -3.483        0            0.706       0.669  \n",
       "1009049      -10.531       10            0.814       0.329  \n",
       "\n",
       "[1009050 rows x 9 columns]"
      ]
     },
     "execution_count": 37,
     "metadata": {},
     "output_type": "execute_result"
    }
   ],
   "source": [
    "df_util_2"
   ]
  },
  {
   "cell_type": "markdown",
   "metadata": {},
   "source": [
    "Hacemos el mismo proceso de etiquetado y escalado de la información que en la primera iteración"
   ]
  },
  {
   "cell_type": "code",
   "execution_count": 38,
   "metadata": {},
   "outputs": [],
   "source": [
    "df_etiquetado_2 = df_util_2.copy()\n",
    "\n",
    "df_etiquetado_2[\"af_valence\"] = df_etiquetado_2[\"af_valence\"].apply(apply_etiqueta)\n",
    "X_2 = df_etiquetado_2.drop(columns = 'af_valence')\n",
    "y_2 = df_etiquetado_2[\"af_valence\"]\n",
    "\n",
    "X_scaled_2 = pd.DataFrame(StandardScaler().fit_transform(X_2), columns = X_2.columns)"
   ]
  },
  {
   "cell_type": "code",
   "execution_count": 40,
   "metadata": {},
   "outputs": [
    {
     "data": {
      "text/html": [
       "<div>\n",
       "<style scoped>\n",
       "    .dataframe tbody tr th:only-of-type {\n",
       "        vertical-align: middle;\n",
       "    }\n",
       "\n",
       "    .dataframe tbody tr th {\n",
       "        vertical-align: top;\n",
       "    }\n",
       "\n",
       "    .dataframe thead th {\n",
       "        text-align: right;\n",
       "    }\n",
       "</style>\n",
       "<table border=\"1\" class=\"dataframe\">\n",
       "  <thead>\n",
       "    <tr style=\"text-align: right;\">\n",
       "      <th></th>\n",
       "      <th>streams</th>\n",
       "      <th>popularity</th>\n",
       "      <th>af_danceability</th>\n",
       "      <th>af_energy</th>\n",
       "      <th>af_key</th>\n",
       "      <th>af_loudness</th>\n",
       "      <th>af_mode</th>\n",
       "      <th>af_acousticness</th>\n",
       "    </tr>\n",
       "  </thead>\n",
       "  <tbody>\n",
       "    <tr>\n",
       "      <th>0</th>\n",
       "      <td>-0.209665</td>\n",
       "      <td>-0.391136</td>\n",
       "      <td>-2.345716</td>\n",
       "      <td>-0.740317</td>\n",
       "      <td>1.487257</td>\n",
       "      <td>-1.676977</td>\n",
       "      <td>-1.086527</td>\n",
       "      <td>-1.226130</td>\n",
       "    </tr>\n",
       "    <tr>\n",
       "      <th>1</th>\n",
       "      <td>-0.228652</td>\n",
       "      <td>-1.953110</td>\n",
       "      <td>-0.088171</td>\n",
       "      <td>0.483934</td>\n",
       "      <td>-1.217273</td>\n",
       "      <td>-0.031738</td>\n",
       "      <td>0.920363</td>\n",
       "      <td>-0.374582</td>\n",
       "    </tr>\n",
       "    <tr>\n",
       "      <th>2</th>\n",
       "      <td>0.337597</td>\n",
       "      <td>0.335363</td>\n",
       "      <td>-0.108959</td>\n",
       "      <td>1.213180</td>\n",
       "      <td>0.946351</td>\n",
       "      <td>0.932100</td>\n",
       "      <td>0.920363</td>\n",
       "      <td>-0.478617</td>\n",
       "    </tr>\n",
       "    <tr>\n",
       "      <th>3</th>\n",
       "      <td>0.265856</td>\n",
       "      <td>0.698613</td>\n",
       "      <td>-2.270880</td>\n",
       "      <td>0.793311</td>\n",
       "      <td>1.487257</td>\n",
       "      <td>1.805701</td>\n",
       "      <td>0.920363</td>\n",
       "      <td>-1.310900</td>\n",
       "    </tr>\n",
       "    <tr>\n",
       "      <th>4</th>\n",
       "      <td>0.223170</td>\n",
       "      <td>0.625963</td>\n",
       "      <td>0.676817</td>\n",
       "      <td>-0.161339</td>\n",
       "      <td>0.134992</td>\n",
       "      <td>-0.890772</td>\n",
       "      <td>-1.086527</td>\n",
       "      <td>2.087586</td>\n",
       "    </tr>\n",
       "    <tr>\n",
       "      <th>...</th>\n",
       "      <td>...</td>\n",
       "      <td>...</td>\n",
       "      <td>...</td>\n",
       "      <td>...</td>\n",
       "      <td>...</td>\n",
       "      <td>...</td>\n",
       "      <td>...</td>\n",
       "      <td>...</td>\n",
       "    </tr>\n",
       "    <tr>\n",
       "      <th>1009045</th>\n",
       "      <td>-0.258232</td>\n",
       "      <td>-1.190286</td>\n",
       "      <td>0.797385</td>\n",
       "      <td>1.080590</td>\n",
       "      <td>1.487257</td>\n",
       "      <td>1.023404</td>\n",
       "      <td>-1.086527</td>\n",
       "      <td>-0.632744</td>\n",
       "    </tr>\n",
       "    <tr>\n",
       "      <th>1009046</th>\n",
       "      <td>-0.258463</td>\n",
       "      <td>-0.064212</td>\n",
       "      <td>-2.416394</td>\n",
       "      <td>-0.899425</td>\n",
       "      <td>0.946351</td>\n",
       "      <td>-1.274105</td>\n",
       "      <td>0.920363</td>\n",
       "      <td>1.740801</td>\n",
       "    </tr>\n",
       "    <tr>\n",
       "      <th>1009047</th>\n",
       "      <td>-0.258492</td>\n",
       "      <td>-0.354812</td>\n",
       "      <td>-0.408302</td>\n",
       "      <td>-0.351385</td>\n",
       "      <td>0.946351</td>\n",
       "      <td>-1.777162</td>\n",
       "      <td>-1.086527</td>\n",
       "      <td>0.211098</td>\n",
       "    </tr>\n",
       "    <tr>\n",
       "      <th>1009048</th>\n",
       "      <td>-0.258904</td>\n",
       "      <td>-1.989435</td>\n",
       "      <td>0.427364</td>\n",
       "      <td>1.085010</td>\n",
       "      <td>-0.946820</td>\n",
       "      <td>0.751625</td>\n",
       "      <td>-1.086527</td>\n",
       "      <td>1.328514</td>\n",
       "    </tr>\n",
       "    <tr>\n",
       "      <th>1009049</th>\n",
       "      <td>-0.259682</td>\n",
       "      <td>-0.209512</td>\n",
       "      <td>-0.366726</td>\n",
       "      <td>-1.199963</td>\n",
       "      <td>-1.217273</td>\n",
       "      <td>-1.752293</td>\n",
       "      <td>0.920363</td>\n",
       "      <td>1.744655</td>\n",
       "    </tr>\n",
       "  </tbody>\n",
       "</table>\n",
       "<p>1009050 rows × 8 columns</p>\n",
       "</div>"
      ],
      "text/plain": [
       "          streams  popularity  af_danceability  af_energy    af_key  \\\n",
       "0       -0.209665   -0.391136        -2.345716  -0.740317  1.487257   \n",
       "1       -0.228652   -1.953110        -0.088171   0.483934 -1.217273   \n",
       "2        0.337597    0.335363        -0.108959   1.213180  0.946351   \n",
       "3        0.265856    0.698613        -2.270880   0.793311  1.487257   \n",
       "4        0.223170    0.625963         0.676817  -0.161339  0.134992   \n",
       "...           ...         ...              ...        ...       ...   \n",
       "1009045 -0.258232   -1.190286         0.797385   1.080590  1.487257   \n",
       "1009046 -0.258463   -0.064212        -2.416394  -0.899425  0.946351   \n",
       "1009047 -0.258492   -0.354812        -0.408302  -0.351385  0.946351   \n",
       "1009048 -0.258904   -1.989435         0.427364   1.085010 -0.946820   \n",
       "1009049 -0.259682   -0.209512        -0.366726  -1.199963 -1.217273   \n",
       "\n",
       "         af_loudness   af_mode  af_acousticness  \n",
       "0          -1.676977 -1.086527        -1.226130  \n",
       "1          -0.031738  0.920363        -0.374582  \n",
       "2           0.932100  0.920363        -0.478617  \n",
       "3           1.805701  0.920363        -1.310900  \n",
       "4          -0.890772 -1.086527         2.087586  \n",
       "...              ...       ...              ...  \n",
       "1009045     1.023404 -1.086527        -0.632744  \n",
       "1009046    -1.274105  0.920363         1.740801  \n",
       "1009047    -1.777162 -1.086527         0.211098  \n",
       "1009048     0.751625 -1.086527         1.328514  \n",
       "1009049    -1.752293  0.920363         1.744655  \n",
       "\n",
       "[1009050 rows x 8 columns]"
      ]
     },
     "execution_count": 40,
     "metadata": {},
     "output_type": "execute_result"
    }
   ],
   "source": [
    "X_scaled_2"
   ]
  },
  {
   "cell_type": "markdown",
   "metadata": {},
   "source": [
    "Separamos los conjuntos de entrenamiento y validación"
   ]
  },
  {
   "cell_type": "code",
   "execution_count": 41,
   "metadata": {},
   "outputs": [],
   "source": [
    "X_train_2, X_val_2, y_train_2, y_val_2 = train_test_split(X_scaled_2, y_2, test_size=0.3, random_state=0, stratify=y_2)"
   ]
  },
  {
   "cell_type": "markdown",
   "metadata": {},
   "source": [
    "### K-nearest neighbors"
   ]
  },
  {
   "cell_type": "markdown",
   "metadata": {},
   "source": [
    "Comenzamos con una busqueda y optimizacion de parametros con GridSearchCV"
   ]
  },
  {
   "cell_type": "code",
   "execution_count": 34,
   "metadata": {},
   "outputs": [
    {
     "name": "stdout",
     "output_type": "stream",
     "text": [
      "Mejor combinación de parámetros:\n",
      "{'n_neighbors': 1, 'weights': 'uniform'}\n"
     ]
    }
   ],
   "source": [
    "np.random.seed(42)\n",
    "\n",
    "tuned_parameters = {'n_neighbors': list(range(1, 16, 1)), 'weights': ['uniform', 'distance']}\n",
    "\n",
    "score = 'f1_macro'\n",
    "\n",
    "cls = KNeighborsClassifier(n_jobs = -1)\n",
    "\n",
    "clf = GridSearchCV(cls, param_grid = tuned_parameters, scoring = score, cv = 5)\n",
    "\n",
    "clf.fit(X_train_2, y_train_2)\n",
    "\n",
    "print(\"Mejor combinación de parámetros:\")\n",
    "print(clf.best_params_)"
   ]
  },
  {
   "cell_type": "code",
   "execution_count": 42,
   "metadata": {},
   "outputs": [
    {
     "name": "stdout",
     "output_type": "stream",
     "text": [
      "              precision    recall  f1-score   support\n",
      "\n",
      "        High       1.00      1.00      1.00     58190\n",
      "         Low       1.00      1.00      1.00     52533\n",
      " Medium-High       1.00      1.00      1.00    109647\n",
      "  Medium-Low       1.00      1.00      1.00     82345\n",
      "\n",
      "    accuracy                           1.00    302715\n",
      "   macro avg       1.00      1.00      1.00    302715\n",
      "weighted avg       1.00      1.00      1.00    302715\n",
      "\n"
     ]
    }
   ],
   "source": [
    "kn_clf_1 = KNeighborsClassifier(n_neighbors=1, weights = 'uniform', n_jobs = -1)\n",
    "\n",
    "kn_clf_1.fit(X_train_2, y_train_2)\n",
    "\n",
    "y_pred_2 = kn_clf_1.predict(X_val_2)\n",
    "\n",
    "kn_acc = accuracy_score(y_val_2, y_pred_2)\n",
    "print(classification_report(y_val_2, y_pred_2))"
   ]
  },
  {
   "cell_type": "markdown",
   "metadata": {},
   "source": [
    "Tras correr este experimento, es claro que o la informacion provista tiene correlaciones directas con la informacion buscada, o que este modelo esta demasiado over-fitted a la muestra de datos entregada."
   ]
  },
  {
   "cell_type": "markdown",
   "metadata": {},
   "source": [
    "Dado lo anterior, vamos a reducir el scope de los atributos utilizados:\n",
    "\n",
    "Esta vez sólo utilizaremos: \"streams\", \"popularity\", \"af_loudness\" y \"af_tempo\""
   ]
  },
  {
   "cell_type": "code",
   "execution_count": 43,
   "metadata": {},
   "outputs": [],
   "source": [
    "df_util_3 = df_spotify[[\"streams\", \"popularity\", \"af_loudness\", \"af_tempo\", \"af_valence\"]].copy()"
   ]
  },
  {
   "cell_type": "code",
   "execution_count": 44,
   "metadata": {},
   "outputs": [
    {
     "data": {
      "text/html": [
       "<div>\n",
       "<style scoped>\n",
       "    .dataframe tbody tr th:only-of-type {\n",
       "        vertical-align: middle;\n",
       "    }\n",
       "\n",
       "    .dataframe tbody tr th {\n",
       "        vertical-align: top;\n",
       "    }\n",
       "\n",
       "    .dataframe thead th {\n",
       "        text-align: right;\n",
       "    }\n",
       "</style>\n",
       "<table border=\"1\" class=\"dataframe\">\n",
       "  <thead>\n",
       "    <tr style=\"text-align: right;\">\n",
       "      <th></th>\n",
       "      <th>streams</th>\n",
       "      <th>popularity</th>\n",
       "      <th>af_loudness</th>\n",
       "      <th>af_tempo</th>\n",
       "      <th>af_valence</th>\n",
       "    </tr>\n",
       "  </thead>\n",
       "  <tbody>\n",
       "    <tr>\n",
       "      <th>0</th>\n",
       "      <td>28838.0</td>\n",
       "      <td>44.0</td>\n",
       "      <td>-10.319</td>\n",
       "      <td>115.024</td>\n",
       "      <td>0.251</td>\n",
       "    </tr>\n",
       "    <tr>\n",
       "      <th>1</th>\n",
       "      <td>22249.0</td>\n",
       "      <td>1.0</td>\n",
       "      <td>-5.688</td>\n",
       "      <td>178.462</td>\n",
       "      <td>0.393</td>\n",
       "    </tr>\n",
       "    <tr>\n",
       "      <th>2</th>\n",
       "      <td>218751.0</td>\n",
       "      <td>64.0</td>\n",
       "      <td>-2.975</td>\n",
       "      <td>178.043</td>\n",
       "      <td>0.822</td>\n",
       "    </tr>\n",
       "    <tr>\n",
       "      <th>3</th>\n",
       "      <td>193855.0</td>\n",
       "      <td>74.0</td>\n",
       "      <td>-0.516</td>\n",
       "      <td>97.014</td>\n",
       "      <td>0.453</td>\n",
       "    </tr>\n",
       "    <tr>\n",
       "      <th>4</th>\n",
       "      <td>179042.0</td>\n",
       "      <td>72.0</td>\n",
       "      <td>-8.106</td>\n",
       "      <td>167.823</td>\n",
       "      <td>0.055</td>\n",
       "    </tr>\n",
       "    <tr>\n",
       "      <th>...</th>\n",
       "      <td>...</td>\n",
       "      <td>...</td>\n",
       "      <td>...</td>\n",
       "      <td>...</td>\n",
       "      <td>...</td>\n",
       "    </tr>\n",
       "    <tr>\n",
       "      <th>1009045</th>\n",
       "      <td>11984.0</td>\n",
       "      <td>22.0</td>\n",
       "      <td>-2.718</td>\n",
       "      <td>140.014</td>\n",
       "      <td>0.855</td>\n",
       "    </tr>\n",
       "    <tr>\n",
       "      <th>1009046</th>\n",
       "      <td>11904.0</td>\n",
       "      <td>53.0</td>\n",
       "      <td>-9.185</td>\n",
       "      <td>132.552</td>\n",
       "      <td>0.025</td>\n",
       "    </tr>\n",
       "    <tr>\n",
       "      <th>1009047</th>\n",
       "      <td>11894.0</td>\n",
       "      <td>45.0</td>\n",
       "      <td>-10.601</td>\n",
       "      <td>91.954</td>\n",
       "      <td>0.227</td>\n",
       "    </tr>\n",
       "    <tr>\n",
       "      <th>1009048</th>\n",
       "      <td>11751.0</td>\n",
       "      <td>0.0</td>\n",
       "      <td>-3.483</td>\n",
       "      <td>95.972</td>\n",
       "      <td>0.669</td>\n",
       "    </tr>\n",
       "    <tr>\n",
       "      <th>1009049</th>\n",
       "      <td>11481.0</td>\n",
       "      <td>49.0</td>\n",
       "      <td>-10.531</td>\n",
       "      <td>149.877</td>\n",
       "      <td>0.329</td>\n",
       "    </tr>\n",
       "  </tbody>\n",
       "</table>\n",
       "<p>1009050 rows × 5 columns</p>\n",
       "</div>"
      ],
      "text/plain": [
       "          streams  popularity  af_loudness  af_tempo  af_valence\n",
       "0         28838.0        44.0      -10.319   115.024       0.251\n",
       "1         22249.0         1.0       -5.688   178.462       0.393\n",
       "2        218751.0        64.0       -2.975   178.043       0.822\n",
       "3        193855.0        74.0       -0.516    97.014       0.453\n",
       "4        179042.0        72.0       -8.106   167.823       0.055\n",
       "...           ...         ...          ...       ...         ...\n",
       "1009045   11984.0        22.0       -2.718   140.014       0.855\n",
       "1009046   11904.0        53.0       -9.185   132.552       0.025\n",
       "1009047   11894.0        45.0      -10.601    91.954       0.227\n",
       "1009048   11751.0         0.0       -3.483    95.972       0.669\n",
       "1009049   11481.0        49.0      -10.531   149.877       0.329\n",
       "\n",
       "[1009050 rows x 5 columns]"
      ]
     },
     "execution_count": 44,
     "metadata": {},
     "output_type": "execute_result"
    }
   ],
   "source": [
    "df_util_3"
   ]
  },
  {
   "cell_type": "markdown",
   "metadata": {},
   "source": [
    "Repetimos el proceso de etiquetado y escalado de la data"
   ]
  },
  {
   "cell_type": "code",
   "execution_count": 46,
   "metadata": {},
   "outputs": [],
   "source": [
    "df_etiquetado_3 = df_util_3.copy()\n",
    "\n",
    "df_etiquetado_3[\"af_valence\"] = df_etiquetado_3[\"af_valence\"].apply(apply_etiqueta)\n",
    "X_3 = df_etiquetado_3.drop(columns = 'af_valence')\n",
    "y_3 = df_etiquetado_3[\"af_valence\"]\n",
    "\n",
    "X_scaled_3 = pd.DataFrame(StandardScaler().fit_transform(X_3), columns = X_3.columns)"
   ]
  },
  {
   "cell_type": "code",
   "execution_count": 47,
   "metadata": {},
   "outputs": [
    {
     "data": {
      "text/html": [
       "<div>\n",
       "<style scoped>\n",
       "    .dataframe tbody tr th:only-of-type {\n",
       "        vertical-align: middle;\n",
       "    }\n",
       "\n",
       "    .dataframe tbody tr th {\n",
       "        vertical-align: top;\n",
       "    }\n",
       "\n",
       "    .dataframe thead th {\n",
       "        text-align: right;\n",
       "    }\n",
       "</style>\n",
       "<table border=\"1\" class=\"dataframe\">\n",
       "  <thead>\n",
       "    <tr style=\"text-align: right;\">\n",
       "      <th></th>\n",
       "      <th>streams</th>\n",
       "      <th>popularity</th>\n",
       "      <th>af_loudness</th>\n",
       "      <th>af_tempo</th>\n",
       "    </tr>\n",
       "  </thead>\n",
       "  <tbody>\n",
       "    <tr>\n",
       "      <th>0</th>\n",
       "      <td>-0.209665</td>\n",
       "      <td>-0.391136</td>\n",
       "      <td>-1.676977</td>\n",
       "      <td>0.027485</td>\n",
       "    </tr>\n",
       "    <tr>\n",
       "      <th>1</th>\n",
       "      <td>-0.228652</td>\n",
       "      <td>-1.953110</td>\n",
       "      <td>-0.031738</td>\n",
       "      <td>1.497668</td>\n",
       "    </tr>\n",
       "    <tr>\n",
       "      <th>2</th>\n",
       "      <td>0.337597</td>\n",
       "      <td>0.335363</td>\n",
       "      <td>0.932100</td>\n",
       "      <td>1.487958</td>\n",
       "    </tr>\n",
       "    <tr>\n",
       "      <th>3</th>\n",
       "      <td>0.265856</td>\n",
       "      <td>0.698613</td>\n",
       "      <td>1.805701</td>\n",
       "      <td>-0.389899</td>\n",
       "    </tr>\n",
       "    <tr>\n",
       "      <th>4</th>\n",
       "      <td>0.223170</td>\n",
       "      <td>0.625963</td>\n",
       "      <td>-0.890772</td>\n",
       "      <td>1.251108</td>\n",
       "    </tr>\n",
       "    <tr>\n",
       "      <th>...</th>\n",
       "      <td>...</td>\n",
       "      <td>...</td>\n",
       "      <td>...</td>\n",
       "      <td>...</td>\n",
       "    </tr>\n",
       "    <tr>\n",
       "      <th>1009045</th>\n",
       "      <td>-0.258232</td>\n",
       "      <td>-1.190286</td>\n",
       "      <td>1.023404</td>\n",
       "      <td>0.606631</td>\n",
       "    </tr>\n",
       "    <tr>\n",
       "      <th>1009046</th>\n",
       "      <td>-0.258463</td>\n",
       "      <td>-0.064212</td>\n",
       "      <td>-1.274105</td>\n",
       "      <td>0.433699</td>\n",
       "    </tr>\n",
       "    <tr>\n",
       "      <th>1009047</th>\n",
       "      <td>-0.258492</td>\n",
       "      <td>-0.354812</td>\n",
       "      <td>-1.777162</td>\n",
       "      <td>-0.507165</td>\n",
       "    </tr>\n",
       "    <tr>\n",
       "      <th>1009048</th>\n",
       "      <td>-0.258904</td>\n",
       "      <td>-1.989435</td>\n",
       "      <td>0.751625</td>\n",
       "      <td>-0.414047</td>\n",
       "    </tr>\n",
       "    <tr>\n",
       "      <th>1009049</th>\n",
       "      <td>-0.259682</td>\n",
       "      <td>-0.209512</td>\n",
       "      <td>-1.752293</td>\n",
       "      <td>0.835208</td>\n",
       "    </tr>\n",
       "  </tbody>\n",
       "</table>\n",
       "<p>1009050 rows × 4 columns</p>\n",
       "</div>"
      ],
      "text/plain": [
       "          streams  popularity  af_loudness  af_tempo\n",
       "0       -0.209665   -0.391136    -1.676977  0.027485\n",
       "1       -0.228652   -1.953110    -0.031738  1.497668\n",
       "2        0.337597    0.335363     0.932100  1.487958\n",
       "3        0.265856    0.698613     1.805701 -0.389899\n",
       "4        0.223170    0.625963    -0.890772  1.251108\n",
       "...           ...         ...          ...       ...\n",
       "1009045 -0.258232   -1.190286     1.023404  0.606631\n",
       "1009046 -0.258463   -0.064212    -1.274105  0.433699\n",
       "1009047 -0.258492   -0.354812    -1.777162 -0.507165\n",
       "1009048 -0.258904   -1.989435     0.751625 -0.414047\n",
       "1009049 -0.259682   -0.209512    -1.752293  0.835208\n",
       "\n",
       "[1009050 rows x 4 columns]"
      ]
     },
     "execution_count": 47,
     "metadata": {},
     "output_type": "execute_result"
    }
   ],
   "source": [
    "X_scaled_3"
   ]
  },
  {
   "cell_type": "code",
   "execution_count": 48,
   "metadata": {},
   "outputs": [],
   "source": [
    "X_train_3, X_val_3, y_train_3, y_val_3 = train_test_split(X_scaled_3, y_3, test_size=0.3, random_state=0, stratify=y_3)"
   ]
  },
  {
   "cell_type": "markdown",
   "metadata": {},
   "source": [
    "Establecemos un baseline para evaluar los clasificadores:"
   ]
  },
  {
   "cell_type": "markdown",
   "metadata": {},
   "source": [
    "### Dummy Classifier"
   ]
  },
  {
   "cell_type": "code",
   "execution_count": 49,
   "metadata": {},
   "outputs": [
    {
     "name": "stdout",
     "output_type": "stream",
     "text": [
      "              precision    recall  f1-score   support\n",
      "\n",
      "        High       0.19      0.19      0.19     58190\n",
      "         Low       0.17      0.17      0.17     52533\n",
      " Medium-High       0.36      0.36      0.36    109647\n",
      "  Medium-Low       0.27      0.27      0.27     82345\n",
      "\n",
      "    accuracy                           0.27    302715\n",
      "   macro avg       0.25      0.25      0.25    302715\n",
      "weighted avg       0.27      0.27      0.27    302715\n",
      "\n"
     ]
    }
   ],
   "source": [
    "dummy_clf = DummyClassifier(strategy = 'stratified')\n",
    "\n",
    "dummy_clf.fit(X_train_3, y_train_3)\n",
    "\n",
    "y_pred_3 = dummy_clf.predict(X_val_3)\n",
    "\n",
    "kn_acc = accuracy_score(y_val_3, y_pred_3)\n",
    "print(classification_report(y_val_3, y_pred_3))"
   ]
  },
  {
   "cell_type": "markdown",
   "metadata": {},
   "source": [
    "### K-nearest neighbors"
   ]
  },
  {
   "cell_type": "code",
   "execution_count": 50,
   "metadata": {},
   "outputs": [
    {
     "name": "stdout",
     "output_type": "stream",
     "text": [
      "Mejor combinación de parámetros:\n",
      "{'n_neighbors': 1, 'weights': 'uniform'}\n"
     ]
    }
   ],
   "source": [
    "np.random.seed(42)\n",
    "\n",
    "tuned_parameters = {'n_neighbors': list(range(1, 16, 1)), 'weights': ['uniform', 'distance']}\n",
    "\n",
    "score = 'f1_macro'\n",
    "\n",
    "cls = KNeighborsClassifier(n_jobs = -1)\n",
    "\n",
    "clf = GridSearchCV(cls, param_grid = tuned_parameters, scoring = score, cv = 5)\n",
    "\n",
    "clf.fit(X_train_3, y_train_3)\n",
    "\n",
    "print(\"Mejor combinación de parámetros:\")\n",
    "print(clf.best_params_)"
   ]
  },
  {
   "cell_type": "code",
   "execution_count": 51,
   "metadata": {},
   "outputs": [
    {
     "name": "stdout",
     "output_type": "stream",
     "text": [
      "              precision    recall  f1-score   support\n",
      "\n",
      "        High       0.99      0.99      0.99     58190\n",
      "         Low       0.99      0.99      0.99     52533\n",
      " Medium-High       0.99      0.99      0.99    109647\n",
      "  Medium-Low       0.99      0.99      0.99     82345\n",
      "\n",
      "    accuracy                           0.99    302715\n",
      "   macro avg       0.99      0.99      0.99    302715\n",
      "weighted avg       0.99      0.99      0.99    302715\n",
      "\n"
     ]
    }
   ],
   "source": [
    "kn_clf_1 = KNeighborsClassifier(n_neighbors=1, weights = 'uniform', n_jobs = -1)\n",
    "\n",
    "kn_clf_1.fit(X_train_3, y_train_3)\n",
    "\n",
    "y_pred_3 = kn_clf_1.predict(X_val_3)\n",
    "\n",
    "kn_acc = accuracy_score(y_val_3, y_pred_3)\n",
    "print(classification_report(y_val_3, y_pred_3))"
   ]
  },
  {
   "cell_type": "markdown",
   "metadata": {},
   "source": [
    "Aun habiendo reducido el scope de atributos utilizados, el resultado esta demasiado ajustado a los datos."
   ]
  },
  {
   "cell_type": "markdown",
   "metadata": {},
   "source": [
    "En un ultimo intento por mejorar la situación, vamos a remover el atributo \"af_loudness\" y probar como sigue la situación:"
   ]
  },
  {
   "cell_type": "code",
   "execution_count": 4,
   "metadata": {},
   "outputs": [],
   "source": [
    "df_util_4 = df_spotify[[\"streams\", \"popularity\", \"af_tempo\", \"af_valence\"]].copy()"
   ]
  },
  {
   "cell_type": "code",
   "execution_count": 5,
   "metadata": {},
   "outputs": [
    {
     "data": {
      "text/html": [
       "<div>\n",
       "<style scoped>\n",
       "    .dataframe tbody tr th:only-of-type {\n",
       "        vertical-align: middle;\n",
       "    }\n",
       "\n",
       "    .dataframe tbody tr th {\n",
       "        vertical-align: top;\n",
       "    }\n",
       "\n",
       "    .dataframe thead th {\n",
       "        text-align: right;\n",
       "    }\n",
       "</style>\n",
       "<table border=\"1\" class=\"dataframe\">\n",
       "  <thead>\n",
       "    <tr style=\"text-align: right;\">\n",
       "      <th></th>\n",
       "      <th>streams</th>\n",
       "      <th>popularity</th>\n",
       "      <th>af_tempo</th>\n",
       "      <th>af_valence</th>\n",
       "    </tr>\n",
       "  </thead>\n",
       "  <tbody>\n",
       "    <tr>\n",
       "      <th>0</th>\n",
       "      <td>28838.0</td>\n",
       "      <td>44.0</td>\n",
       "      <td>115.024</td>\n",
       "      <td>0.251</td>\n",
       "    </tr>\n",
       "    <tr>\n",
       "      <th>1</th>\n",
       "      <td>22249.0</td>\n",
       "      <td>1.0</td>\n",
       "      <td>178.462</td>\n",
       "      <td>0.393</td>\n",
       "    </tr>\n",
       "    <tr>\n",
       "      <th>2</th>\n",
       "      <td>218751.0</td>\n",
       "      <td>64.0</td>\n",
       "      <td>178.043</td>\n",
       "      <td>0.822</td>\n",
       "    </tr>\n",
       "    <tr>\n",
       "      <th>3</th>\n",
       "      <td>193855.0</td>\n",
       "      <td>74.0</td>\n",
       "      <td>97.014</td>\n",
       "      <td>0.453</td>\n",
       "    </tr>\n",
       "    <tr>\n",
       "      <th>4</th>\n",
       "      <td>179042.0</td>\n",
       "      <td>72.0</td>\n",
       "      <td>167.823</td>\n",
       "      <td>0.055</td>\n",
       "    </tr>\n",
       "    <tr>\n",
       "      <th>...</th>\n",
       "      <td>...</td>\n",
       "      <td>...</td>\n",
       "      <td>...</td>\n",
       "      <td>...</td>\n",
       "    </tr>\n",
       "    <tr>\n",
       "      <th>1009045</th>\n",
       "      <td>11984.0</td>\n",
       "      <td>22.0</td>\n",
       "      <td>140.014</td>\n",
       "      <td>0.855</td>\n",
       "    </tr>\n",
       "    <tr>\n",
       "      <th>1009046</th>\n",
       "      <td>11904.0</td>\n",
       "      <td>53.0</td>\n",
       "      <td>132.552</td>\n",
       "      <td>0.025</td>\n",
       "    </tr>\n",
       "    <tr>\n",
       "      <th>1009047</th>\n",
       "      <td>11894.0</td>\n",
       "      <td>45.0</td>\n",
       "      <td>91.954</td>\n",
       "      <td>0.227</td>\n",
       "    </tr>\n",
       "    <tr>\n",
       "      <th>1009048</th>\n",
       "      <td>11751.0</td>\n",
       "      <td>0.0</td>\n",
       "      <td>95.972</td>\n",
       "      <td>0.669</td>\n",
       "    </tr>\n",
       "    <tr>\n",
       "      <th>1009049</th>\n",
       "      <td>11481.0</td>\n",
       "      <td>49.0</td>\n",
       "      <td>149.877</td>\n",
       "      <td>0.329</td>\n",
       "    </tr>\n",
       "  </tbody>\n",
       "</table>\n",
       "<p>1009050 rows × 4 columns</p>\n",
       "</div>"
      ],
      "text/plain": [
       "          streams  popularity  af_tempo  af_valence\n",
       "0         28838.0        44.0   115.024       0.251\n",
       "1         22249.0         1.0   178.462       0.393\n",
       "2        218751.0        64.0   178.043       0.822\n",
       "3        193855.0        74.0    97.014       0.453\n",
       "4        179042.0        72.0   167.823       0.055\n",
       "...           ...         ...       ...         ...\n",
       "1009045   11984.0        22.0   140.014       0.855\n",
       "1009046   11904.0        53.0   132.552       0.025\n",
       "1009047   11894.0        45.0    91.954       0.227\n",
       "1009048   11751.0         0.0    95.972       0.669\n",
       "1009049   11481.0        49.0   149.877       0.329\n",
       "\n",
       "[1009050 rows x 4 columns]"
      ]
     },
     "execution_count": 5,
     "metadata": {},
     "output_type": "execute_result"
    }
   ],
   "source": [
    "df_util_4"
   ]
  },
  {
   "cell_type": "markdown",
   "metadata": {},
   "source": [
    "Nuevamente etiquetamos y escalamos los datos"
   ]
  },
  {
   "cell_type": "code",
   "execution_count": 16,
   "metadata": {},
   "outputs": [],
   "source": [
    "df_etiquetado_4 = df_util_4.copy()\n",
    "\n",
    "df_etiquetado_4[\"af_valence\"] = df_etiquetado_4[\"af_valence\"].apply(apply_etiqueta)\n",
    "X_4 = df_etiquetado_4.drop(columns = 'af_valence')\n",
    "y_4 = df_etiquetado_4[\"af_valence\"]\n",
    "\n",
    "X_scaled_4 = pd.DataFrame(StandardScaler().fit_transform(X_4), columns = X_4.columns)"
   ]
  },
  {
   "cell_type": "code",
   "execution_count": 17,
   "metadata": {},
   "outputs": [
    {
     "data": {
      "text/html": [
       "<div>\n",
       "<style scoped>\n",
       "    .dataframe tbody tr th:only-of-type {\n",
       "        vertical-align: middle;\n",
       "    }\n",
       "\n",
       "    .dataframe tbody tr th {\n",
       "        vertical-align: top;\n",
       "    }\n",
       "\n",
       "    .dataframe thead th {\n",
       "        text-align: right;\n",
       "    }\n",
       "</style>\n",
       "<table border=\"1\" class=\"dataframe\">\n",
       "  <thead>\n",
       "    <tr style=\"text-align: right;\">\n",
       "      <th></th>\n",
       "      <th>streams</th>\n",
       "      <th>popularity</th>\n",
       "      <th>af_tempo</th>\n",
       "    </tr>\n",
       "  </thead>\n",
       "  <tbody>\n",
       "    <tr>\n",
       "      <th>0</th>\n",
       "      <td>-0.209665</td>\n",
       "      <td>-0.391136</td>\n",
       "      <td>0.027485</td>\n",
       "    </tr>\n",
       "    <tr>\n",
       "      <th>1</th>\n",
       "      <td>-0.228652</td>\n",
       "      <td>-1.953110</td>\n",
       "      <td>1.497668</td>\n",
       "    </tr>\n",
       "    <tr>\n",
       "      <th>2</th>\n",
       "      <td>0.337597</td>\n",
       "      <td>0.335363</td>\n",
       "      <td>1.487958</td>\n",
       "    </tr>\n",
       "    <tr>\n",
       "      <th>3</th>\n",
       "      <td>0.265856</td>\n",
       "      <td>0.698613</td>\n",
       "      <td>-0.389899</td>\n",
       "    </tr>\n",
       "    <tr>\n",
       "      <th>4</th>\n",
       "      <td>0.223170</td>\n",
       "      <td>0.625963</td>\n",
       "      <td>1.251108</td>\n",
       "    </tr>\n",
       "    <tr>\n",
       "      <th>...</th>\n",
       "      <td>...</td>\n",
       "      <td>...</td>\n",
       "      <td>...</td>\n",
       "    </tr>\n",
       "    <tr>\n",
       "      <th>1009045</th>\n",
       "      <td>-0.258232</td>\n",
       "      <td>-1.190286</td>\n",
       "      <td>0.606631</td>\n",
       "    </tr>\n",
       "    <tr>\n",
       "      <th>1009046</th>\n",
       "      <td>-0.258463</td>\n",
       "      <td>-0.064212</td>\n",
       "      <td>0.433699</td>\n",
       "    </tr>\n",
       "    <tr>\n",
       "      <th>1009047</th>\n",
       "      <td>-0.258492</td>\n",
       "      <td>-0.354812</td>\n",
       "      <td>-0.507165</td>\n",
       "    </tr>\n",
       "    <tr>\n",
       "      <th>1009048</th>\n",
       "      <td>-0.258904</td>\n",
       "      <td>-1.989435</td>\n",
       "      <td>-0.414047</td>\n",
       "    </tr>\n",
       "    <tr>\n",
       "      <th>1009049</th>\n",
       "      <td>-0.259682</td>\n",
       "      <td>-0.209512</td>\n",
       "      <td>0.835208</td>\n",
       "    </tr>\n",
       "  </tbody>\n",
       "</table>\n",
       "<p>1009050 rows × 3 columns</p>\n",
       "</div>"
      ],
      "text/plain": [
       "          streams  popularity  af_tempo\n",
       "0       -0.209665   -0.391136  0.027485\n",
       "1       -0.228652   -1.953110  1.497668\n",
       "2        0.337597    0.335363  1.487958\n",
       "3        0.265856    0.698613 -0.389899\n",
       "4        0.223170    0.625963  1.251108\n",
       "...           ...         ...       ...\n",
       "1009045 -0.258232   -1.190286  0.606631\n",
       "1009046 -0.258463   -0.064212  0.433699\n",
       "1009047 -0.258492   -0.354812 -0.507165\n",
       "1009048 -0.258904   -1.989435 -0.414047\n",
       "1009049 -0.259682   -0.209512  0.835208\n",
       "\n",
       "[1009050 rows x 3 columns]"
      ]
     },
     "execution_count": 17,
     "metadata": {},
     "output_type": "execute_result"
    }
   ],
   "source": [
    "X_scaled_4"
   ]
  },
  {
   "cell_type": "code",
   "execution_count": 18,
   "metadata": {},
   "outputs": [],
   "source": [
    "X_train_4, X_val_4, y_train_4, y_val_4 = train_test_split(X_scaled_4, y_4, test_size=0.3, random_state=0, stratify=y_4)"
   ]
  },
  {
   "cell_type": "markdown",
   "metadata": {},
   "source": [
    "Volvemos a establecer baseline:"
   ]
  },
  {
   "cell_type": "markdown",
   "metadata": {},
   "source": [
    "### Dummy Classifier"
   ]
  },
  {
   "cell_type": "code",
   "execution_count": 19,
   "metadata": {},
   "outputs": [
    {
     "name": "stdout",
     "output_type": "stream",
     "text": [
      "              precision    recall  f1-score   support\n",
      "\n",
      "        High       0.19      0.19      0.19     58190\n",
      "         Low       0.17      0.17      0.17     52533\n",
      " Medium-High       0.36      0.36      0.36    109647\n",
      "  Medium-Low       0.27      0.27      0.27     82345\n",
      "\n",
      "    accuracy                           0.27    302715\n",
      "   macro avg       0.25      0.25      0.25    302715\n",
      "weighted avg       0.27      0.27      0.27    302715\n",
      "\n"
     ]
    }
   ],
   "source": [
    "dummy_clf = DummyClassifier(strategy = 'stratified')\n",
    "\n",
    "dummy_clf.fit(X_train_4, y_train_4)\n",
    "\n",
    "y_pred_4 = dummy_clf.predict(X_val_4)\n",
    "\n",
    "kn_acc = accuracy_score(y_val_4, y_pred_4)\n",
    "print(classification_report(y_val_4, y_pred_4))"
   ]
  },
  {
   "cell_type": "markdown",
   "metadata": {},
   "source": [
    "### K-nearest neighbors"
   ]
  },
  {
   "cell_type": "code",
   "execution_count": 21,
   "metadata": {},
   "outputs": [
    {
     "name": "stdout",
     "output_type": "stream",
     "text": [
      "Mejor combinación de parámetros:\n",
      "{'n_neighbors': 2, 'weights': 'distance'}\n"
     ]
    }
   ],
   "source": [
    "from sklearn.neighbors import KNeighborsClassifier\n",
    "\n",
    "np.random.seed(42)\n",
    "\n",
    "tuned_parameters = {'n_neighbors': list(range(1, 16, 1)), 'weights': ['uniform', 'distance']}\n",
    "\n",
    "score = 'f1_macro'\n",
    "\n",
    "cls = KNeighborsClassifier(n_jobs = -1)\n",
    "\n",
    "clf = GridSearchCV(cls, param_grid = tuned_parameters, scoring = score, cv = 5)\n",
    "\n",
    "clf.fit(X_train_4, y_train_4)\n",
    "\n",
    "print(\"Mejor combinación de parámetros:\")\n",
    "print(clf.best_params_)"
   ]
  },
  {
   "cell_type": "code",
   "execution_count": 22,
   "metadata": {},
   "outputs": [
    {
     "name": "stdout",
     "output_type": "stream",
     "text": [
      "              precision    recall  f1-score   support\n",
      "\n",
      "        High       0.96      0.96      0.96     58190\n",
      "         Low       0.95      0.95      0.95     52533\n",
      " Medium-High       0.96      0.96      0.96    109647\n",
      "  Medium-Low       0.96      0.95      0.95     82345\n",
      "\n",
      "    accuracy                           0.96    302715\n",
      "   macro avg       0.96      0.96      0.96    302715\n",
      "weighted avg       0.96      0.96      0.96    302715\n",
      "\n"
     ]
    }
   ],
   "source": [
    "kn_clf_2 = KNeighborsClassifier(n_neighbors=2, weights = 'distance', n_jobs = -1)\n",
    "\n",
    "kn_clf_2.fit(X_train_4, y_train_4)\n",
    "\n",
    "y_pred_4 = kn_clf_2.predict(X_val_4)\n",
    "\n",
    "kn_acc = accuracy_score(y_val_4, y_pred_4)\n",
    "print(classification_report(y_val_4, y_pred_4))"
   ]
  },
  {
   "cell_type": "markdown",
   "metadata": {},
   "source": [
    "Los resultados esta vez son buenos, pero sin llegar al nivel de overfit que se presentaba en las situaciones anteriores.\n",
    "Creemos que este es un buen modelo para responder a la pregunta buscada.\n",
    "\n",
    "Dados estos resultados, la pregunta se puede reformular:\n",
    "\n",
    "- ¿Es posible predecir la positividad de una canción basandose en su popularidad y tempo?\n",
    "\n",
    "A lo cual podemos responder con un alto grado de certeza que si, en efecto es posible, y con muy buenos resultados."
   ]
  }
 ],
 "metadata": {
  "kernelspec": {
   "display_name": ".venv",
   "language": "python",
   "name": "python3"
  },
  "language_info": {
   "codemirror_mode": {
    "name": "ipython",
    "version": 3
   },
   "file_extension": ".py",
   "mimetype": "text/x-python",
   "name": "python",
   "nbconvert_exporter": "python",
   "pygments_lexer": "ipython3",
   "version": "3.12.7"
  }
 },
 "nbformat": 4,
 "nbformat_minor": 2
}
