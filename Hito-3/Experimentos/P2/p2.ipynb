{
 "cells": [
  {
   "cell_type": "markdown",
   "metadata": {},
   "source": [
    "Experimento:\n",
    "Buscamos lograr contestar la pregunta:\n",
    "\n",
    "¿Es posible asociar el valor de alguna característica de la música como su energía o su tempo con un lugar geográfico?\n"
   ]
  },
  {
   "cell_type": "code",
   "execution_count": 62,
   "metadata": {},
   "outputs": [],
   "source": [
    "import pandas as pd\n",
    "import numpy as np\n",
    "\n",
    "\n",
    "#juntar paises en base al continente\n",
    "from sklearn.tree import DecisionTreeClassifier\n",
    "from sklearn.model_selection import train_test_split\n",
    "\n",
    "from sklearn.metrics import classification_report\n",
    "from sklearn.preprocessing import StandardScaler"
   ]
  },
  {
   "cell_type": "code",
   "execution_count": 63,
   "metadata": {},
   "outputs": [],
   "source": [
    "df = pd.read_excel('C:/Users/diego/OneDrive/Escritorio/universidad/semestre10/mineria/T2/Insight_Alchemist/Spotify.xlsx')\n",
    "\n",
    "#Ajustamos columnas para contraarrestar error de formato en archivo xlsx\n",
    "df['duration_ms'] = df['duration_ms']/10\n",
    "df['popularity'] = df['popularity']/10\n",
    "df['streams'] = df['streams']/10\n",
    "df['af_danceability'] = df['af_danceability']/1000\n",
    "df['af_energy'] = df['af_energy']/1000\n",
    "df['af_key'] = df['af_key']/10\n",
    "df['af_loudness'] = df['af_loudness']/1000\n",
    "df['af_speechiness'] = df['af_speechiness']/1000\n",
    "df['af_acousticness'] = df['af_acousticness']/1000\n",
    "df['af_instrumentalness'] = df['af_instrumentalness']/1000\n",
    "df['af_liveness'] = df['af_liveness']/1000\n",
    "df['af_valence'] = df['af_valence']/1000\n",
    "df['af_tempo'] = df['af_tempo']/1000\n",
    "df['af_time_signature'] = df['af_time_signature']/10"
   ]
  },
  {
   "cell_type": "markdown",
   "metadata": {},
   "source": [
    "Primero modificamos la información de la columna regiones para reducir las clases al agrupar los países por regiones geográficas más amplia."
   ]
  },
  {
   "cell_type": "code",
   "execution_count": 64,
   "metadata": {},
   "outputs": [],
   "source": [
    "d1 = [\n",
    "    (['Morocco','South Africa'],'Africa'),\n",
    "    (['Argentina','Bolivia','Brazil','Chile','Colombia','Costa Rica','Dominican Republic','Ecuador','El Salvador','Guatemala','Honduras','Mexico','Nicaragua','Panama','Paraguay','Peru','Uruguay'],'America_latina'),\n",
    "    (['Canada','United States'],'America_norte'),\n",
    "    (['Hong Kong','India','Indonesia','Japan','Malaysia','Philippines','Singapore','Taiwan','Thailand','Vietnam'],'Asia'),\n",
    "    (['Andorra','Austria','Belgium','Bulgaria','Czech Republic','Denmark','Estonia','Finland','France','Germany','Greece','Hungary','Iceland','Ireland','Italy','Latvia','Lithuania','Luxembourg',\n",
    "     'Netherlands','Norway','Poland','Portugal','Romania','Russia','Slovakia','Spain','Sweden','Switzerland','Ukraine','United Kingdom'],'Europa'),\n",
    "    (['Australia','New Zealand'],'Oceania'),\n",
    "    (['Egypt','Israel','Saudi Arabia','Turkey','United Arab Emirates'],'Oriente_medio')\n",
    "]\n",
    "\n",
    "def apply_etiqueta(elemento):\n",
    "    for i in d1:\n",
    "        if elemento in i[0]:\n",
    "            return i[1]\n",
    "        \n",
    "new_reg = df[\"region\"]\n",
    "\n",
    "\n",
    "for index, row in df.iterrows():\n",
    "    new_data = apply_etiqueta(row[\"region\"])\n",
    "    new_reg.iat[index] = new_data\n",
    "\n",
    "#se reemplaza la columa de region\n",
    "df[\"region\"] = new_reg\n"
   ]
  },
  {
   "cell_type": "markdown",
   "metadata": {},
   "source": [
    "Para encontrar si esta relación existe vamos a usar un Decision Tree Classifier."
   ]
  },
  {
   "cell_type": "markdown",
   "metadata": {},
   "source": [
    "Primero vamos atributo por atributo probando para ver cual tiene mejores resultados."
   ]
  },
  {
   "cell_type": "code",
   "execution_count": 65,
   "metadata": {},
   "outputs": [],
   "source": [
    "for i in ['af_danceability','af_energy', 'af_key', 'af_loudness', 'af_mode', 'af_speechiness','af_acousticness', 'af_liveness', 'af_valence','af_tempo', 'af_time_signature']:\n",
    "\n",
    "    df = df.dropna(subset=[\"region\", i])  # Drop rows where target or feature is NaN\n",
    "    X = df[i].copy().values.reshape(-1, 1)\n",
    "    y = df[\"region\"]\n",
    "\n",
    "    #primero separamos los datos de entrenamiento y validacion/test\n",
    "    X_train, X_val_and_test, y_train, y_val_and_test = train_test_split(X,y,test_size=0.3,random_state=0,stratify=y)\n",
    "\n",
    "    # Luego separamos los datos de validación y pruebas                                       0.5 x 0.3 = 0.15\n",
    "    X_val, X_test, y_val, y_test = train_test_split(X_val_and_test, y_val_and_test, test_size=0.5, random_state=0, stratify=y_val_and_test)\n",
    "\n",
    "    #estandarizacion de datos, transformar los datos de manera que tengan media 0 y desviacion estandar 1.\n",
    "    std_scaler = StandardScaler()\n",
    "    X_train_std_scaled = std_scaler.fit_transform(X_train)\n",
    "\n",
    "    X_val_std_scaled = std_scaler.transform(X_val)\n",
    "    X_test_std_scaled = std_scaler.transform(X_test)\n",
    "\n",
    "    #definimos nuestro modelo\n",
    "    clf = DecisionTreeClassifier(criterion=\"gini\",random_state=0)\n",
    "\n",
    "    #entrenamos al modelo con fit\n",
    "    clf.fit(X_train_std_scaled, y_train)   ## Entrenar usando X (features), y (clase)\n",
    "\n",
    "    #realizamos predicciones de nuestros datos con los datos de validación\n",
    "    y_val_pred = clf.predict(X_val_std_scaled)\n",
    "\n",
    "\n",
    "    #metricas de las predicciones\n",
    "    #print(i)\n",
    "    #print(classification_report(y_val, y_val_pred))"
   ]
  },
  {
   "cell_type": "markdown",
   "metadata": {},
   "source": [
    "De lo anterior se pude observar que las dos características que presentan mayor relación son loudness y tempo."
   ]
  },
  {
   "cell_type": "markdown",
   "metadata": {},
   "source": [
    "Ahora se va a hacer un codigo que pruebe con todas las posibilidades"
   ]
  },
  {
   "cell_type": "code",
   "execution_count": 66,
   "metadata": {},
   "outputs": [
    {
     "name": "stdout",
     "output_type": "stream",
     "text": [
      "11\n",
      "2048\n",
      "2047\n"
     ]
    },
    {
     "name": "stderr",
     "output_type": "stream",
     "text": [
      "c:\\Users\\diego\\OneDrive\\Escritorio\\universidad\\semestre10\\mineria\\T2\\Insight_Alchemist\\venv\\Lib\\site-packages\\sklearn\\metrics\\_classification.py:1531: UndefinedMetricWarning: Precision is ill-defined and being set to 0.0 in labels with no predicted samples. Use `zero_division` parameter to control this behavior.\n",
      "  _warn_prf(average, modifier, f\"{metric.capitalize()} is\", len(result))\n",
      "c:\\Users\\diego\\OneDrive\\Escritorio\\universidad\\semestre10\\mineria\\T2\\Insight_Alchemist\\venv\\Lib\\site-packages\\sklearn\\metrics\\_classification.py:1531: UndefinedMetricWarning: Precision is ill-defined and being set to 0.0 in labels with no predicted samples. Use `zero_division` parameter to control this behavior.\n",
      "  _warn_prf(average, modifier, f\"{metric.capitalize()} is\", len(result))\n",
      "c:\\Users\\diego\\OneDrive\\Escritorio\\universidad\\semestre10\\mineria\\T2\\Insight_Alchemist\\venv\\Lib\\site-packages\\sklearn\\metrics\\_classification.py:1531: UndefinedMetricWarning: Precision is ill-defined and being set to 0.0 in labels with no predicted samples. Use `zero_division` parameter to control this behavior.\n",
      "  _warn_prf(average, modifier, f\"{metric.capitalize()} is\", len(result))\n",
      "c:\\Users\\diego\\OneDrive\\Escritorio\\universidad\\semestre10\\mineria\\T2\\Insight_Alchemist\\venv\\Lib\\site-packages\\sklearn\\metrics\\_classification.py:1531: UndefinedMetricWarning: Precision is ill-defined and being set to 0.0 in labels with no predicted samples. Use `zero_division` parameter to control this behavior.\n",
      "  _warn_prf(average, modifier, f\"{metric.capitalize()} is\", len(result))\n",
      "c:\\Users\\diego\\OneDrive\\Escritorio\\universidad\\semestre10\\mineria\\T2\\Insight_Alchemist\\venv\\Lib\\site-packages\\sklearn\\metrics\\_classification.py:1531: UndefinedMetricWarning: Precision is ill-defined and being set to 0.0 in labels with no predicted samples. Use `zero_division` parameter to control this behavior.\n",
      "  _warn_prf(average, modifier, f\"{metric.capitalize()} is\", len(result))\n",
      "c:\\Users\\diego\\OneDrive\\Escritorio\\universidad\\semestre10\\mineria\\T2\\Insight_Alchemist\\venv\\Lib\\site-packages\\sklearn\\metrics\\_classification.py:1531: UndefinedMetricWarning: Precision is ill-defined and being set to 0.0 in labels with no predicted samples. Use `zero_division` parameter to control this behavior.\n",
      "  _warn_prf(average, modifier, f\"{metric.capitalize()} is\", len(result))\n",
      "c:\\Users\\diego\\OneDrive\\Escritorio\\universidad\\semestre10\\mineria\\T2\\Insight_Alchemist\\venv\\Lib\\site-packages\\sklearn\\metrics\\_classification.py:1531: UndefinedMetricWarning: Precision is ill-defined and being set to 0.0 in labels with no predicted samples. Use `zero_division` parameter to control this behavior.\n",
      "  _warn_prf(average, modifier, f\"{metric.capitalize()} is\", len(result))\n"
     ]
    }
   ],
   "source": [
    "from sklearn.metrics import accuracy_score, precision_score, recall_score, f1_score\n",
    "\n",
    "L = ['af_danceability','af_energy', 'af_key', 'af_loudness', 'af_mode', 'af_speechiness','af_acousticness', 'af_liveness', 'af_valence','af_tempo', 'af_time_signature']\n",
    "\n",
    "# Se crea una lista con todas las combinaciónes posibles\n",
    "print(len(L))\n",
    "newList = []\n",
    "def sublists(lst, new, index=0, current=[]):\n",
    "    if index == len(lst):\n",
    "        new.append(current)\n",
    "        #print(current)\n",
    "        return\n",
    "    sublists(lst,new, index+1, current)\n",
    "    sublists(lst,new, index+1, current + [lst[index]])\n",
    "\n",
    "sublists(L,newList)\n",
    "\n",
    "print(len(newList))\n",
    "#sacamos los repetidos\n",
    "unique_newList = []\n",
    "for i in newList:\n",
    "    if i not in unique_newList:\n",
    "        unique_newList.append(i)\n",
    "\n",
    "#sacamos el elemento vacio\n",
    "unique_newList.remove([])\n",
    "print(len(unique_newList))\n",
    "\n",
    "#accuracy list\n",
    "accuracy_list = []\n",
    "\n",
    "for i in unique_newList:\n",
    "    subset = [\"region\"] + i\n",
    "    df = df.dropna(subset=subset)  # Drop rows where target or feature is NaN\n",
    "    X = df[i].copy()\n",
    "    y = df[\"region\"]\n",
    "\n",
    "    #primero separamos los datos de entrenamiento y validacion/test\n",
    "    X_train, X_val_and_test, y_train, y_val_and_test = train_test_split(X,y,test_size=0.3,random_state=0,stratify=y)\n",
    "\n",
    "    # Luego separamos los datos de validación y pruebas                                       0.5 x 0.3 = 0.15\n",
    "    X_val, X_test, y_val, y_test = train_test_split(X_val_and_test, y_val_and_test, test_size=0.5, random_state=0, stratify=y_val_and_test)\n",
    "\n",
    "    #estandarizacion de datos, transformar los datos de manera que tengan media 0 y desviacion estandar 1.\n",
    "    std_scaler = StandardScaler()\n",
    "    X_train_std_scaled = std_scaler.fit_transform(X_train)\n",
    "\n",
    "    X_val_std_scaled = std_scaler.transform(X_val)\n",
    "    X_test_std_scaled = std_scaler.transform(X_test)\n",
    "\n",
    "    #definimos nuestro modelo\n",
    "    clf = DecisionTreeClassifier(criterion=\"gini\",random_state=0)\n",
    "\n",
    "    #entrenamos al modelo con fit\n",
    "    clf.fit(X_train_std_scaled, y_train)   ## Entrenar usando X (features), y (clase)\n",
    "\n",
    "    #realizamos predicciones de nuestros datos con los datos de validación\n",
    "    y_val_pred = clf.predict(X_val_std_scaled)\n",
    "\n",
    "\n",
    "    #metricas de las predicciones\n",
    "\n",
    "    accuracy = accuracy_score(y_val,y_val_pred)\n",
    "    precision_micro = precision_score(y_val, y_val_pred, average='micro')\n",
    "    precision_macro = precision_score(y_val, y_val_pred, average='macro')\n",
    "    recall_micro = recall_score(y_val, y_val_pred, average='micro')\n",
    "    recall_macro = recall_score(y_val, y_val_pred, average='macro')\n",
    "    f1_micro = f1_score(y_val, y_val_pred, average='micro')\n",
    "    f1_macro = f1_score(y_val, y_val_pred, average='macro')\n",
    "\n",
    "    #para poder saber cual fue el mejor se va a sacar el promedio de todos los score y se van a guardar en una lista\n",
    "    promedio = (accuracy + precision_micro + precision_macro + recall_micro + recall_macro + f1_micro + f1_macro)/7 \n",
    "\n",
    "    accuracy_list.append((i,promedio))\n",
    "\n",
    "#ordenamos la lista resultante\n",
    "sorted_by_score = sorted(accuracy_list, key=lambda tup:tup[1])\n"
   ]
  },
  {
   "cell_type": "markdown",
   "metadata": {},
   "source": [
    "Se imprimen las 10 peores y las 10 mejores conjuntos"
   ]
  },
  {
   "cell_type": "code",
   "execution_count": 69,
   "metadata": {},
   "outputs": [
    {
     "name": "stdout",
     "output_type": "stream",
     "text": [
      "[(['af_time_signature'], np.float64(0.2864815037161335)), (['af_mode'], np.float64(0.2864815037161335)), (['af_mode', 'af_time_signature'], np.float64(0.2864815037161335)), (['af_key'], np.float64(0.2864815037161335)), (['af_key', 'af_mode'], np.float64(0.29640393600964965)), (['af_key', 'af_time_signature'], np.float64(0.31580236121712757)), (['af_key', 'af_mode', 'af_time_signature'], np.float64(0.33895782009387393)), (['af_liveness'], np.float64(0.4260734008648214)), (['af_acousticness'], np.float64(0.4377899173040535)), (['af_danceability'], np.float64(0.43925500120213584))]\n",
      "[(['af_key', 'af_liveness', 'af_valence', 'af_tempo', 'af_time_signature'], np.float64(0.7016625443436151)), (['af_energy', 'af_key', 'af_loudness', 'af_acousticness', 'af_valence', 'af_tempo', 'af_time_signature'], np.float64(0.7016709033736281)), (['af_danceability', 'af_energy', 'af_key', 'af_speechiness', 'af_acousticness', 'af_valence', 'af_tempo'], np.float64(0.7016783483969826)), (['af_key', 'af_mode', 'af_speechiness', 'af_liveness', 'af_valence', 'af_tempo', 'af_time_signature'], np.float64(0.7016843503057723)), (['af_energy', 'af_key', 'af_loudness', 'af_mode', 'af_acousticness', 'af_valence', 'af_tempo', 'af_time_signature'], np.float64(0.7017020243844208)), (['af_energy', 'af_key', 'af_loudness', 'af_mode', 'af_speechiness', 'af_acousticness', 'af_liveness', 'af_valence', 'af_tempo', 'af_time_signature'], np.float64(0.7017026210717765)), (['af_danceability', 'af_energy', 'af_loudness', 'af_mode', 'af_liveness', 'af_tempo', 'af_time_signature'], np.float64(0.7017029463929613)), (['af_key', 'af_liveness', 'af_valence', 'af_tempo'], np.float64(0.7017124585308917)), (['af_danceability', 'af_key', 'af_acousticness', 'af_valence', 'af_tempo', 'af_time_signature'], np.float64(0.7017203745518763)), (['af_danceability', 'af_energy', 'af_mode', 'af_speechiness', 'af_acousticness', 'af_valence', 'af_tempo'], np.float64(0.7017301447175903))]\n"
     ]
    }
   ],
   "source": [
    "print(sorted_by_score[:10])\n",
    "print(sorted_by_score[2036:2046])"
   ]
  },
  {
   "cell_type": "markdown",
   "metadata": {},
   "source": [
    "Se predice usando los datos test con el mejor conjunto"
   ]
  },
  {
   "cell_type": "code",
   "execution_count": 70,
   "metadata": {},
   "outputs": [
    {
     "name": "stdout",
     "output_type": "stream",
     "text": [
      "todas\n",
      "                precision    recall  f1-score   support\n",
      "\n",
      "        Africa       0.93      0.46      0.62      1785\n",
      "America_latina       0.82      0.75      0.79     15151\n",
      " America_norte       0.64      0.17      0.27      1785\n",
      "          Asia       0.88      0.67      0.76      8922\n",
      "        Europa       0.68      0.92      0.78     25448\n",
      "       Oceania       0.83      0.22      0.35      1785\n",
      " Oriente_medio       0.86      0.38      0.53      4461\n",
      "\n",
      "      accuracy                           0.74     59337\n",
      "     macro avg       0.80      0.51      0.58     59337\n",
      "  weighted avg       0.77      0.74      0.73     59337\n",
      "\n"
     ]
    }
   ],
   "source": [
    "df = df.dropna(subset=['region','af_danceability', 'af_energy', 'af_mode', 'af_speechiness', 'af_acousticness', 'af_valence', 'af_tempo'])  # Drop rows where target or feature is NaN\n",
    "X = df[['af_danceability', 'af_energy', 'af_mode', 'af_speechiness', 'af_acousticness', 'af_valence', 'af_tempo']].copy()\n",
    "y = df[\"region\"]\n",
    "\n",
    "#primero separamos los datos de entrenamiento y validacion/test\n",
    "X_train, X_val_and_test, y_train, y_val_and_test = train_test_split(X,y,test_size=0.3,random_state=0,stratify=y)\n",
    "\n",
    "# Luego separamos los datos de validación y pruebas                                       0.5 x 0.3 = 0.15\n",
    "X_val, X_test, y_val, y_test = train_test_split(X_val_and_test, y_val_and_test, test_size=0.5, random_state=0, stratify=y_val_and_test)\n",
    "\n",
    "#estandarizacion de datos, transformar los datos de manera que tengan media 0 y desviacion estandar 1.\n",
    "std_scaler = StandardScaler()\n",
    "X_train_std_scaled = std_scaler.fit_transform(X_train)\n",
    "\n",
    "X_val_std_scaled = std_scaler.transform(X_val)\n",
    "X_test_std_scaled = std_scaler.transform(X_test)\n",
    "\n",
    "#definimos nuestro modelo\n",
    "clf = DecisionTreeClassifier(criterion=\"gini\",random_state=0)\n",
    "\n",
    "#entrenamos al modelo con fit\n",
    "clf.fit(X_train_std_scaled, y_train)   ## Entrenar usando X (features), y (clase)\n",
    "\n",
    "#realizamos predicciones de nuestros datos con los datos de validación\n",
    "y_test_pred = clf.predict(X_test_std_scaled)\n",
    "\n",
    "\n",
    "#metricas de las predicciones\n",
    "print(\"todas\")\n",
    "print(classification_report(y_test, y_test_pred))\n"
   ]
  }
 ],
 "metadata": {
  "kernelspec": {
   "display_name": "venv",
   "language": "python",
   "name": "python3"
  },
  "language_info": {
   "codemirror_mode": {
    "name": "ipython",
    "version": 3
   },
   "file_extension": ".py",
   "mimetype": "text/x-python",
   "name": "python",
   "nbconvert_exporter": "python",
   "pygments_lexer": "ipython3",
   "version": "3.12.5"
  }
 },
 "nbformat": 4,
 "nbformat_minor": 2
}
