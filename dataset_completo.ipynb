{
 "cells": [
  {
   "cell_type": "code",
   "execution_count": 3,
   "metadata": {},
   "outputs": [
    {
     "name": "stdout",
     "output_type": "stream",
     "text": [
      "artist\n",
      "!!!                        5.0\n",
      "!!!, Lea Lea              24.0\n",
      "\"Elena Of Avalor\" Cast     6.0\n",
      "\"Weird Al\" Yankovic       20.0\n",
      "\"聲夢傳奇\"學員                  37.0\n",
      "                          ... \n",
      "이시강                        6.0\n",
      "이아람                        7.0\n",
      "지선                        13.0\n",
      "하숙자                        4.0\n",
      "Ｍ, 兩千 2ØØØ, RedcolorG      1.0\n",
      "Name: count, Length: 96156, dtype: float64\n"
     ]
    }
   ],
   "source": [
    "import pandas as pd\n",
    "import dask\n",
    "\n",
    "result = None\n",
    "for chunk in pd.read_csv('merged_data.csv', chunksize = 100000, dtype = str):\n",
    "    artista = chunk[\"artist\"]\n",
    "    chunk_result = artista.value_counts()\n",
    "\n",
    "    if result is None:\n",
    "        result = chunk_result\n",
    "    else:\n",
    "        result = result.add(chunk_result, fill_value=0)\n",
    "\n",
    "print(result)\n"
   ]
  },
  {
   "cell_type": "code",
   "execution_count": null,
   "metadata": {},
   "outputs": [],
   "source": []
  }
 ],
 "metadata": {
  "kernelspec": {
   "display_name": "Python 3 (ipykernel)",
   "language": "python",
   "name": "python3"
  },
  "language_info": {
   "codemirror_mode": {
    "name": "ipython",
    "version": 3
   },
   "file_extension": ".py",
   "mimetype": "text/x-python",
   "name": "python",
   "nbconvert_exporter": "python",
   "pygments_lexer": "ipython3",
   "version": "3.12.5"
  }
 },
 "nbformat": 4,
 "nbformat_minor": 4
}
